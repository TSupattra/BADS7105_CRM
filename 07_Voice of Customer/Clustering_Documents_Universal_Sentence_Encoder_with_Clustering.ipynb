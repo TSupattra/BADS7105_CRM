{
  "nbformat": 4,
  "nbformat_minor": 0,
  "metadata": {
    "colab": {
      "name": "Clustering Documents - Universal Sentence Encoder with Clustering.ipynb",
      "provenance": [],
      "collapsed_sections": [],
      "include_colab_link": true
    },
    "kernelspec": {
      "name": "python3",
      "display_name": "Python 3"
    },
    "language_info": {
      "name": "python"
    }
  },
  "cells": [
    {
      "cell_type": "markdown",
      "metadata": {
        "id": "view-in-github",
        "colab_type": "text"
      },
      "source": [
        "<a href=\"https://colab.research.google.com/github/TSupattra/BADS7105_CRM_Analytics/blob/main/07_Voice%20of%20Customer/Clustering_Documents_Universal_Sentence_Encoder_with_Clustering.ipynb\" target=\"_parent\"><img src=\"https://colab.research.google.com/assets/colab-badge.svg\" alt=\"Open In Colab\"/></a>"
      ]
    },
    {
      "cell_type": "markdown",
      "metadata": {
        "id": "WrQbd86APp-2"
      },
      "source": [
        "**Step 0 - install and import dependencies**"
      ]
    },
    {
      "cell_type": "code",
      "metadata": {
        "colab": {
          "base_uri": "https://localhost:8080/"
        },
        "id": "bF2rn-l5Rp4U",
        "outputId": "a00835f3-f75e-454b-8f1d-7542155f36d2"
      },
      "source": [
        "!pip install pythainlp\n",
        "!pip install tensorflow_text\n",
        "!pip install umap-learn"
      ],
      "execution_count": 1,
      "outputs": [
        {
          "output_type": "stream",
          "name": "stdout",
          "text": [
            "Collecting pythainlp\n",
            "  Downloading pythainlp-2.3.2-py3-none-any.whl (11.0 MB)\n",
            "\u001b[K     |████████████████████████████████| 11.0 MB 5.1 MB/s \n",
            "\u001b[?25hCollecting tinydb>=3.0\n",
            "  Downloading tinydb-4.5.2-py3-none-any.whl (23 kB)\n",
            "Collecting python-crfsuite>=0.9.6\n",
            "  Downloading python_crfsuite-0.9.7-cp37-cp37m-manylinux1_x86_64.whl (743 kB)\n",
            "\u001b[K     |████████████████████████████████| 743 kB 53.8 MB/s \n",
            "\u001b[?25hRequirement already satisfied: requests>=2.22.0 in /usr/local/lib/python3.7/dist-packages (from pythainlp) (2.23.0)\n",
            "Requirement already satisfied: idna<3,>=2.5 in /usr/local/lib/python3.7/dist-packages (from requests>=2.22.0->pythainlp) (2.10)\n",
            "Requirement already satisfied: urllib3!=1.25.0,!=1.25.1,<1.26,>=1.21.1 in /usr/local/lib/python3.7/dist-packages (from requests>=2.22.0->pythainlp) (1.24.3)\n",
            "Requirement already satisfied: chardet<4,>=3.0.2 in /usr/local/lib/python3.7/dist-packages (from requests>=2.22.0->pythainlp) (3.0.4)\n",
            "Requirement already satisfied: certifi>=2017.4.17 in /usr/local/lib/python3.7/dist-packages (from requests>=2.22.0->pythainlp) (2021.10.8)\n",
            "Requirement already satisfied: typing-extensions<4.0.0,>=3.10.0 in /usr/local/lib/python3.7/dist-packages (from tinydb>=3.0->pythainlp) (3.10.0.2)\n",
            "Installing collected packages: tinydb, python-crfsuite, pythainlp\n",
            "Successfully installed pythainlp-2.3.2 python-crfsuite-0.9.7 tinydb-4.5.2\n",
            "Collecting tensorflow_text\n",
            "  Downloading tensorflow_text-2.7.3-cp37-cp37m-manylinux2010_x86_64.whl (4.9 MB)\n",
            "\u001b[K     |████████████████████████████████| 4.9 MB 5.1 MB/s \n",
            "\u001b[?25hRequirement already satisfied: tensorflow-hub>=0.8.0 in /usr/local/lib/python3.7/dist-packages (from tensorflow_text) (0.12.0)\n",
            "Requirement already satisfied: tensorflow<2.8,>=2.7.0 in /usr/local/lib/python3.7/dist-packages (from tensorflow_text) (2.7.0)\n",
            "Requirement already satisfied: keras<2.8,>=2.7.0rc0 in /usr/local/lib/python3.7/dist-packages (from tensorflow<2.8,>=2.7.0->tensorflow_text) (2.7.0)\n",
            "Requirement already satisfied: libclang>=9.0.1 in /usr/local/lib/python3.7/dist-packages (from tensorflow<2.8,>=2.7.0->tensorflow_text) (12.0.0)\n",
            "Requirement already satisfied: astunparse>=1.6.0 in /usr/local/lib/python3.7/dist-packages (from tensorflow<2.8,>=2.7.0->tensorflow_text) (1.6.3)\n",
            "Requirement already satisfied: opt-einsum>=2.3.2 in /usr/local/lib/python3.7/dist-packages (from tensorflow<2.8,>=2.7.0->tensorflow_text) (3.3.0)\n",
            "Requirement already satisfied: protobuf>=3.9.2 in /usr/local/lib/python3.7/dist-packages (from tensorflow<2.8,>=2.7.0->tensorflow_text) (3.17.3)\n",
            "Requirement already satisfied: absl-py>=0.4.0 in /usr/local/lib/python3.7/dist-packages (from tensorflow<2.8,>=2.7.0->tensorflow_text) (0.12.0)\n",
            "Requirement already satisfied: tensorboard~=2.6 in /usr/local/lib/python3.7/dist-packages (from tensorflow<2.8,>=2.7.0->tensorflow_text) (2.7.0)\n",
            "Requirement already satisfied: numpy>=1.14.5 in /usr/local/lib/python3.7/dist-packages (from tensorflow<2.8,>=2.7.0->tensorflow_text) (1.19.5)\n",
            "Requirement already satisfied: tensorflow-estimator<2.8,~=2.7.0rc0 in /usr/local/lib/python3.7/dist-packages (from tensorflow<2.8,>=2.7.0->tensorflow_text) (2.7.0)\n",
            "Requirement already satisfied: keras-preprocessing>=1.1.1 in /usr/local/lib/python3.7/dist-packages (from tensorflow<2.8,>=2.7.0->tensorflow_text) (1.1.2)\n",
            "Requirement already satisfied: google-pasta>=0.1.1 in /usr/local/lib/python3.7/dist-packages (from tensorflow<2.8,>=2.7.0->tensorflow_text) (0.2.0)\n",
            "Requirement already satisfied: termcolor>=1.1.0 in /usr/local/lib/python3.7/dist-packages (from tensorflow<2.8,>=2.7.0->tensorflow_text) (1.1.0)\n",
            "Requirement already satisfied: wheel<1.0,>=0.32.0 in /usr/local/lib/python3.7/dist-packages (from tensorflow<2.8,>=2.7.0->tensorflow_text) (0.37.0)\n",
            "Requirement already satisfied: tensorflow-io-gcs-filesystem>=0.21.0 in /usr/local/lib/python3.7/dist-packages (from tensorflow<2.8,>=2.7.0->tensorflow_text) (0.22.0)\n",
            "Requirement already satisfied: flatbuffers<3.0,>=1.12 in /usr/local/lib/python3.7/dist-packages (from tensorflow<2.8,>=2.7.0->tensorflow_text) (2.0)\n",
            "Requirement already satisfied: six>=1.12.0 in /usr/local/lib/python3.7/dist-packages (from tensorflow<2.8,>=2.7.0->tensorflow_text) (1.15.0)\n",
            "Requirement already satisfied: grpcio<2.0,>=1.24.3 in /usr/local/lib/python3.7/dist-packages (from tensorflow<2.8,>=2.7.0->tensorflow_text) (1.42.0)\n",
            "Requirement already satisfied: wrapt>=1.11.0 in /usr/local/lib/python3.7/dist-packages (from tensorflow<2.8,>=2.7.0->tensorflow_text) (1.13.3)\n",
            "Requirement already satisfied: typing-extensions>=3.6.6 in /usr/local/lib/python3.7/dist-packages (from tensorflow<2.8,>=2.7.0->tensorflow_text) (3.10.0.2)\n",
            "Requirement already satisfied: gast<0.5.0,>=0.2.1 in /usr/local/lib/python3.7/dist-packages (from tensorflow<2.8,>=2.7.0->tensorflow_text) (0.4.0)\n",
            "Requirement already satisfied: h5py>=2.9.0 in /usr/local/lib/python3.7/dist-packages (from tensorflow<2.8,>=2.7.0->tensorflow_text) (3.1.0)\n",
            "Requirement already satisfied: cached-property in /usr/local/lib/python3.7/dist-packages (from h5py>=2.9.0->tensorflow<2.8,>=2.7.0->tensorflow_text) (1.5.2)\n",
            "Requirement already satisfied: tensorboard-data-server<0.7.0,>=0.6.0 in /usr/local/lib/python3.7/dist-packages (from tensorboard~=2.6->tensorflow<2.8,>=2.7.0->tensorflow_text) (0.6.1)\n",
            "Requirement already satisfied: tensorboard-plugin-wit>=1.6.0 in /usr/local/lib/python3.7/dist-packages (from tensorboard~=2.6->tensorflow<2.8,>=2.7.0->tensorflow_text) (1.8.0)\n",
            "Requirement already satisfied: markdown>=2.6.8 in /usr/local/lib/python3.7/dist-packages (from tensorboard~=2.6->tensorflow<2.8,>=2.7.0->tensorflow_text) (3.3.6)\n",
            "Requirement already satisfied: google-auth<3,>=1.6.3 in /usr/local/lib/python3.7/dist-packages (from tensorboard~=2.6->tensorflow<2.8,>=2.7.0->tensorflow_text) (1.35.0)\n",
            "Requirement already satisfied: setuptools>=41.0.0 in /usr/local/lib/python3.7/dist-packages (from tensorboard~=2.6->tensorflow<2.8,>=2.7.0->tensorflow_text) (57.4.0)\n",
            "Requirement already satisfied: werkzeug>=0.11.15 in /usr/local/lib/python3.7/dist-packages (from tensorboard~=2.6->tensorflow<2.8,>=2.7.0->tensorflow_text) (1.0.1)\n",
            "Requirement already satisfied: google-auth-oauthlib<0.5,>=0.4.1 in /usr/local/lib/python3.7/dist-packages (from tensorboard~=2.6->tensorflow<2.8,>=2.7.0->tensorflow_text) (0.4.6)\n",
            "Requirement already satisfied: requests<3,>=2.21.0 in /usr/local/lib/python3.7/dist-packages (from tensorboard~=2.6->tensorflow<2.8,>=2.7.0->tensorflow_text) (2.23.0)\n",
            "Requirement already satisfied: rsa<5,>=3.1.4 in /usr/local/lib/python3.7/dist-packages (from google-auth<3,>=1.6.3->tensorboard~=2.6->tensorflow<2.8,>=2.7.0->tensorflow_text) (4.8)\n",
            "Requirement already satisfied: cachetools<5.0,>=2.0.0 in /usr/local/lib/python3.7/dist-packages (from google-auth<3,>=1.6.3->tensorboard~=2.6->tensorflow<2.8,>=2.7.0->tensorflow_text) (4.2.4)\n",
            "Requirement already satisfied: pyasn1-modules>=0.2.1 in /usr/local/lib/python3.7/dist-packages (from google-auth<3,>=1.6.3->tensorboard~=2.6->tensorflow<2.8,>=2.7.0->tensorflow_text) (0.2.8)\n",
            "Requirement already satisfied: requests-oauthlib>=0.7.0 in /usr/local/lib/python3.7/dist-packages (from google-auth-oauthlib<0.5,>=0.4.1->tensorboard~=2.6->tensorflow<2.8,>=2.7.0->tensorflow_text) (1.3.0)\n",
            "Requirement already satisfied: importlib-metadata>=4.4 in /usr/local/lib/python3.7/dist-packages (from markdown>=2.6.8->tensorboard~=2.6->tensorflow<2.8,>=2.7.0->tensorflow_text) (4.8.2)\n",
            "Requirement already satisfied: zipp>=0.5 in /usr/local/lib/python3.7/dist-packages (from importlib-metadata>=4.4->markdown>=2.6.8->tensorboard~=2.6->tensorflow<2.8,>=2.7.0->tensorflow_text) (3.6.0)\n",
            "Requirement already satisfied: pyasn1<0.5.0,>=0.4.6 in /usr/local/lib/python3.7/dist-packages (from pyasn1-modules>=0.2.1->google-auth<3,>=1.6.3->tensorboard~=2.6->tensorflow<2.8,>=2.7.0->tensorflow_text) (0.4.8)\n",
            "Requirement already satisfied: urllib3!=1.25.0,!=1.25.1,<1.26,>=1.21.1 in /usr/local/lib/python3.7/dist-packages (from requests<3,>=2.21.0->tensorboard~=2.6->tensorflow<2.8,>=2.7.0->tensorflow_text) (1.24.3)\n",
            "Requirement already satisfied: certifi>=2017.4.17 in /usr/local/lib/python3.7/dist-packages (from requests<3,>=2.21.0->tensorboard~=2.6->tensorflow<2.8,>=2.7.0->tensorflow_text) (2021.10.8)\n",
            "Requirement already satisfied: chardet<4,>=3.0.2 in /usr/local/lib/python3.7/dist-packages (from requests<3,>=2.21.0->tensorboard~=2.6->tensorflow<2.8,>=2.7.0->tensorflow_text) (3.0.4)\n",
            "Requirement already satisfied: idna<3,>=2.5 in /usr/local/lib/python3.7/dist-packages (from requests<3,>=2.21.0->tensorboard~=2.6->tensorflow<2.8,>=2.7.0->tensorflow_text) (2.10)\n",
            "Requirement already satisfied: oauthlib>=3.0.0 in /usr/local/lib/python3.7/dist-packages (from requests-oauthlib>=0.7.0->google-auth-oauthlib<0.5,>=0.4.1->tensorboard~=2.6->tensorflow<2.8,>=2.7.0->tensorflow_text) (3.1.1)\n",
            "Installing collected packages: tensorflow-text\n",
            "Successfully installed tensorflow-text-2.7.3\n",
            "Collecting umap-learn\n",
            "  Downloading umap-learn-0.5.2.tar.gz (86 kB)\n",
            "\u001b[K     |████████████████████████████████| 86 kB 2.8 MB/s \n",
            "\u001b[?25hRequirement already satisfied: numpy>=1.17 in /usr/local/lib/python3.7/dist-packages (from umap-learn) (1.19.5)\n",
            "Requirement already satisfied: scikit-learn>=0.22 in /usr/local/lib/python3.7/dist-packages (from umap-learn) (1.0.1)\n",
            "Requirement already satisfied: scipy>=1.0 in /usr/local/lib/python3.7/dist-packages (from umap-learn) (1.4.1)\n",
            "Requirement already satisfied: numba>=0.49 in /usr/local/lib/python3.7/dist-packages (from umap-learn) (0.51.2)\n",
            "Collecting pynndescent>=0.5\n",
            "  Downloading pynndescent-0.5.5.tar.gz (1.1 MB)\n",
            "\u001b[K     |████████████████████████████████| 1.1 MB 33.8 MB/s \n",
            "\u001b[?25hRequirement already satisfied: tqdm in /usr/local/lib/python3.7/dist-packages (from umap-learn) (4.62.3)\n",
            "Requirement already satisfied: setuptools in /usr/local/lib/python3.7/dist-packages (from numba>=0.49->umap-learn) (57.4.0)\n",
            "Requirement already satisfied: llvmlite<0.35,>=0.34.0.dev0 in /usr/local/lib/python3.7/dist-packages (from numba>=0.49->umap-learn) (0.34.0)\n",
            "Requirement already satisfied: joblib>=0.11 in /usr/local/lib/python3.7/dist-packages (from pynndescent>=0.5->umap-learn) (1.1.0)\n",
            "Requirement already satisfied: threadpoolctl>=2.0.0 in /usr/local/lib/python3.7/dist-packages (from scikit-learn>=0.22->umap-learn) (3.0.0)\n",
            "Building wheels for collected packages: umap-learn, pynndescent\n",
            "  Building wheel for umap-learn (setup.py) ... \u001b[?25l\u001b[?25hdone\n",
            "  Created wheel for umap-learn: filename=umap_learn-0.5.2-py3-none-any.whl size=82709 sha256=867e29eb2a728b42d0f035fbd73269472b8e79afb02fadf4cc30bfcde447c7fc\n",
            "  Stored in directory: /root/.cache/pip/wheels/84/1b/c6/aaf68a748122632967cef4dffef68224eb16798b6793257d82\n",
            "  Building wheel for pynndescent (setup.py) ... \u001b[?25l\u001b[?25hdone\n",
            "  Created wheel for pynndescent: filename=pynndescent-0.5.5-py3-none-any.whl size=52603 sha256=dbd0ab2fbd24865cd3dad2b33ce39d89a9364b911bd4ed7e6d97cb84a06e864e\n",
            "  Stored in directory: /root/.cache/pip/wheels/af/e9/33/04db1436df0757c42fda8ea6796d7a8586e23c85fac355f476\n",
            "Successfully built umap-learn pynndescent\n",
            "Installing collected packages: pynndescent, umap-learn\n",
            "Successfully installed pynndescent-0.5.5 umap-learn-0.5.2\n"
          ]
        }
      ]
    },
    {
      "cell_type": "code",
      "metadata": {
        "id": "7GvuznzISB-h"
      },
      "source": [
        "import numpy as np\n",
        "import pandas as pd\n",
        "import re\n",
        "\n",
        "import tensorflow as tf\n",
        "import tensorflow_hub as hub\n",
        "import tensorflow_text\n",
        "import umap\n",
        "\n",
        "from sklearn.cluster import KMeans\n",
        "import matplotlib.pyplot as plt\n",
        "\n",
        "from sklearn.cluster import AgglomerativeClustering\n",
        "from sklearn.neighbors import kneighbors_graph\n",
        "\n",
        "import pythainlp\n",
        "from pythainlp.corpus.common import thai_words\n",
        "from pythainlp.util import Trie\n",
        "import collections\n"
      ],
      "execution_count": 2,
      "outputs": []
    },
    {
      "cell_type": "code",
      "metadata": {
        "id": "fUq1dSYcS5yM"
      },
      "source": [
        "module_url = 'https://tfhub.dev/google/universal-sentence-encoder-multilingual/3' #'https://tfhub.dev/google/universal-sentence-encoder-multilingual/3' for a large model\n",
        "\n",
        "model = hub.load(module_url)"
      ],
      "execution_count": 3,
      "outputs": []
    },
    {
      "cell_type": "code",
      "source": [
        "from google.colab import drive\n",
        "drive.mount('/content/drive')"
      ],
      "metadata": {
        "colab": {
          "base_uri": "https://localhost:8080/"
        },
        "id": "P7lQygAE__fE",
        "outputId": "590d8a45-2497-4315-cd0a-2d62e1074375"
      },
      "execution_count": 4,
      "outputs": [
        {
          "output_type": "stream",
          "name": "stdout",
          "text": [
            "Mounted at /content/drive\n"
          ]
        }
      ]
    },
    {
      "cell_type": "code",
      "metadata": {
        "id": "dZiaG3R4b6kN"
      },
      "source": [
        "df = pd.read_csv(\"WongnaiReviews_Small.csv\")"
      ],
      "execution_count": 5,
      "outputs": []
    },
    {
      "cell_type": "code",
      "metadata": {
        "colab": {
          "base_uri": "https://localhost:8080/",
          "height": 206
        },
        "id": "gonSv6i4cVs1",
        "outputId": "8b68c0a4-8cff-4ffd-d078-321105b14a92"
      },
      "source": [
        "df.head()"
      ],
      "execution_count": 6,
      "outputs": [
        {
          "output_type": "execute_result",
          "data": {
            "text/html": [
              "\n",
              "  <div id=\"df-4874a052-5ee4-449d-b916-0f673545eb22\">\n",
              "    <div class=\"colab-df-container\">\n",
              "      <div>\n",
              "<style scoped>\n",
              "    .dataframe tbody tr th:only-of-type {\n",
              "        vertical-align: middle;\n",
              "    }\n",
              "\n",
              "    .dataframe tbody tr th {\n",
              "        vertical-align: top;\n",
              "    }\n",
              "\n",
              "    .dataframe thead th {\n",
              "        text-align: right;\n",
              "    }\n",
              "</style>\n",
              "<table border=\"1\" class=\"dataframe\">\n",
              "  <thead>\n",
              "    <tr style=\"text-align: right;\">\n",
              "      <th></th>\n",
              "      <th>Review ID</th>\n",
              "      <th>Review</th>\n",
              "    </tr>\n",
              "  </thead>\n",
              "  <tbody>\n",
              "    <tr>\n",
              "      <th>0</th>\n",
              "      <td>1</td>\n",
              "      <td>เป็นคนที่ชอบทาน Macchiato เป็นประจำ มีวันนึงเด...</td>\n",
              "    </tr>\n",
              "    <tr>\n",
              "      <th>1</th>\n",
              "      <td>2</td>\n",
              "      <td>Art of Coffee Kasetsart เป็นร้านกาแฟรสชาติเยี่...</td>\n",
              "    </tr>\n",
              "    <tr>\n",
              "      <th>2</th>\n",
              "      <td>3</td>\n",
              "      <td>กวงทะเลเผา อาหารทะเลเค้าสดจริงๆเนื้อปูหวานไม่ค...</td>\n",
              "    </tr>\n",
              "    <tr>\n",
              "      <th>3</th>\n",
              "      <td>4</td>\n",
              "      <td>วันนี้มีโอกาสตื่นเช้าครับเลยถึงโอกาสออกมาหาอะไ...</td>\n",
              "    </tr>\n",
              "    <tr>\n",
              "      <th>4</th>\n",
              "      <td>5</td>\n",
              "      <td>ชอบมาทานร้านนี้ถ้าอยากกินอาหารเวียดนามใกล้บ้าน...</td>\n",
              "    </tr>\n",
              "  </tbody>\n",
              "</table>\n",
              "</div>\n",
              "      <button class=\"colab-df-convert\" onclick=\"convertToInteractive('df-4874a052-5ee4-449d-b916-0f673545eb22')\"\n",
              "              title=\"Convert this dataframe to an interactive table.\"\n",
              "              style=\"display:none;\">\n",
              "        \n",
              "  <svg xmlns=\"http://www.w3.org/2000/svg\" height=\"24px\"viewBox=\"0 0 24 24\"\n",
              "       width=\"24px\">\n",
              "    <path d=\"M0 0h24v24H0V0z\" fill=\"none\"/>\n",
              "    <path d=\"M18.56 5.44l.94 2.06.94-2.06 2.06-.94-2.06-.94-.94-2.06-.94 2.06-2.06.94zm-11 1L8.5 8.5l.94-2.06 2.06-.94-2.06-.94L8.5 2.5l-.94 2.06-2.06.94zm10 10l.94 2.06.94-2.06 2.06-.94-2.06-.94-.94-2.06-.94 2.06-2.06.94z\"/><path d=\"M17.41 7.96l-1.37-1.37c-.4-.4-.92-.59-1.43-.59-.52 0-1.04.2-1.43.59L10.3 9.45l-7.72 7.72c-.78.78-.78 2.05 0 2.83L4 21.41c.39.39.9.59 1.41.59.51 0 1.02-.2 1.41-.59l7.78-7.78 2.81-2.81c.8-.78.8-2.07 0-2.86zM5.41 20L4 18.59l7.72-7.72 1.47 1.35L5.41 20z\"/>\n",
              "  </svg>\n",
              "      </button>\n",
              "      \n",
              "  <style>\n",
              "    .colab-df-container {\n",
              "      display:flex;\n",
              "      flex-wrap:wrap;\n",
              "      gap: 12px;\n",
              "    }\n",
              "\n",
              "    .colab-df-convert {\n",
              "      background-color: #E8F0FE;\n",
              "      border: none;\n",
              "      border-radius: 50%;\n",
              "      cursor: pointer;\n",
              "      display: none;\n",
              "      fill: #1967D2;\n",
              "      height: 32px;\n",
              "      padding: 0 0 0 0;\n",
              "      width: 32px;\n",
              "    }\n",
              "\n",
              "    .colab-df-convert:hover {\n",
              "      background-color: #E2EBFA;\n",
              "      box-shadow: 0px 1px 2px rgba(60, 64, 67, 0.3), 0px 1px 3px 1px rgba(60, 64, 67, 0.15);\n",
              "      fill: #174EA6;\n",
              "    }\n",
              "\n",
              "    [theme=dark] .colab-df-convert {\n",
              "      background-color: #3B4455;\n",
              "      fill: #D2E3FC;\n",
              "    }\n",
              "\n",
              "    [theme=dark] .colab-df-convert:hover {\n",
              "      background-color: #434B5C;\n",
              "      box-shadow: 0px 1px 3px 1px rgba(0, 0, 0, 0.15);\n",
              "      filter: drop-shadow(0px 1px 2px rgba(0, 0, 0, 0.3));\n",
              "      fill: #FFFFFF;\n",
              "    }\n",
              "  </style>\n",
              "\n",
              "      <script>\n",
              "        const buttonEl =\n",
              "          document.querySelector('#df-4874a052-5ee4-449d-b916-0f673545eb22 button.colab-df-convert');\n",
              "        buttonEl.style.display =\n",
              "          google.colab.kernel.accessAllowed ? 'block' : 'none';\n",
              "\n",
              "        async function convertToInteractive(key) {\n",
              "          const element = document.querySelector('#df-4874a052-5ee4-449d-b916-0f673545eb22');\n",
              "          const dataTable =\n",
              "            await google.colab.kernel.invokeFunction('convertToInteractive',\n",
              "                                                     [key], {});\n",
              "          if (!dataTable) return;\n",
              "\n",
              "          const docLinkHtml = 'Like what you see? Visit the ' +\n",
              "            '<a target=\"_blank\" href=https://colab.research.google.com/notebooks/data_table.ipynb>data table notebook</a>'\n",
              "            + ' to learn more about interactive tables.';\n",
              "          element.innerHTML = '';\n",
              "          dataTable['output_type'] = 'display_data';\n",
              "          await google.colab.output.renderOutput(dataTable, element);\n",
              "          const docLink = document.createElement('div');\n",
              "          docLink.innerHTML = docLinkHtml;\n",
              "          element.appendChild(docLink);\n",
              "        }\n",
              "      </script>\n",
              "    </div>\n",
              "  </div>\n",
              "  "
            ],
            "text/plain": [
              "   Review ID                                             Review\n",
              "0          1  เป็นคนที่ชอบทาน Macchiato เป็นประจำ มีวันนึงเด...\n",
              "1          2  Art of Coffee Kasetsart เป็นร้านกาแฟรสชาติเยี่...\n",
              "2          3  กวงทะเลเผา อาหารทะเลเค้าสดจริงๆเนื้อปูหวานไม่ค...\n",
              "3          4  วันนี้มีโอกาสตื่นเช้าครับเลยถึงโอกาสออกมาหาอะไ...\n",
              "4          5  ชอบมาทานร้านนี้ถ้าอยากกินอาหารเวียดนามใกล้บ้าน..."
            ]
          },
          "metadata": {},
          "execution_count": 6
        }
      ]
    },
    {
      "cell_type": "markdown",
      "metadata": {
        "id": "Oowl7VYeP3gK"
      },
      "source": [
        "**Step 1 - document embedding and dimension reduction**"
      ]
    },
    {
      "cell_type": "code",
      "metadata": {
        "colab": {
          "base_uri": "https://localhost:8080/"
        },
        "id": "e29WZmM4cCOS",
        "outputId": "e56ce236-0278-448c-ea77-d36940c660c9"
      },
      "source": [
        "#embed sentences using Universal Sentence Encoder (USE)\n",
        "\n",
        "embed_comments_array = model(df['Review'].values).numpy()\n",
        "embed_comments_array"
      ],
      "execution_count": 7,
      "outputs": [
        {
          "output_type": "execute_result",
          "data": {
            "text/plain": [
              "array([[ 0.08993827,  0.01941084,  0.03787038, ..., -0.03488849,\n",
              "         0.06299512,  0.04635989],\n",
              "       [ 0.00634244,  0.00814594,  0.03071941, ..., -0.01478723,\n",
              "        -0.03080936, -0.03316405],\n",
              "       [ 0.0633687 , -0.02027139, -0.05077003, ..., -0.06530775,\n",
              "        -0.00952999, -0.03439987],\n",
              "       ...,\n",
              "       [ 0.08775924,  0.03609736,  0.01263062, ..., -0.03102781,\n",
              "        -0.03361677,  0.01928871],\n",
              "       [ 0.05691195,  0.05381691, -0.0399575 , ..., -0.06598807,\n",
              "        -0.05390478, -0.01037725],\n",
              "       [ 0.0777048 ,  0.05080631,  0.02680681, ..., -0.0061413 ,\n",
              "        -0.01313567,  0.02236264]], dtype=float32)"
            ]
          },
          "metadata": {},
          "execution_count": 7
        }
      ]
    },
    {
      "cell_type": "code",
      "metadata": {
        "id": "5gps1fE8ctMQ",
        "colab": {
          "base_uri": "https://localhost:8080/"
        },
        "outputId": "b59c7fbe-6423-4f74-f98e-8bcef06248e4"
      },
      "source": [
        "#reduce array dimensions using umap (you can chagne n_components)\n",
        "\n",
        "reducer = umap.UMAP(random_state=42,n_components=50)\n",
        "umap_embed_comments_array = reducer.fit_transform(embed_comments_array)"
      ],
      "execution_count": 8,
      "outputs": [
        {
          "output_type": "stream",
          "name": "stderr",
          "text": [
            "/usr/local/lib/python3.7/dist-packages/numba/np/ufunc/parallel.py:363: NumbaWarning: The TBB threading layer requires TBB version 2019.5 or later i.e., TBB_INTERFACE_VERSION >= 11005. Found TBB_INTERFACE_VERSION = 9107. The TBB threading layer is disabled.\n",
            "  warnings.warn(problem)\n"
          ]
        }
      ]
    },
    {
      "cell_type": "markdown",
      "metadata": {
        "id": "s5qq2RQlQJbV"
      },
      "source": [
        "**Step 2 - document clustering using KMeans**"
      ]
    },
    {
      "cell_type": "code",
      "metadata": {
        "colab": {
          "base_uri": "https://localhost:8080/",
          "height": 314
        },
        "id": "2IkMb1UIF3k5",
        "outputId": "dfcb95dc-c027-4e03-b0b4-647e258e8658"
      },
      "source": [
        "#run kmeans with various number of k. evaluate no. of k based on the elbow plot\n",
        "\n",
        "wcss=[]\n",
        "max_k = 10\n",
        "for i in range(1, max_k):\n",
        "  kmeans = KMeans(i)\n",
        "  kmeans.fit(umap_embed_comments_array)\n",
        "  wcss_iter = kmeans.inertia_\n",
        "  wcss.append(wcss_iter)\n",
        "\n",
        "number_clusters = range(1, max_k)\n",
        "plt.plot(number_clusters,wcss)\n",
        "plt.title('The Elbow title')\n",
        "plt.xlabel('Number of clusters')\n",
        "plt.ylabel('WCSS')"
      ],
      "execution_count": 9,
      "outputs": [
        {
          "output_type": "execute_result",
          "data": {
            "text/plain": [
              "Text(0, 0.5, 'WCSS')"
            ]
          },
          "metadata": {},
          "execution_count": 9
        },
        {
          "output_type": "display_data",
          "data": {
            "image/png": "[encoded data removed]",
            "text/plain": [
              "<Figure size 432x288 with 1 Axes>"
            ]
          },
          "metadata": {
            "needs_background": "light"
          }
        }
      ]
    },
    {
      "cell_type": "code",
      "metadata": {
        "id": "1o0czkMVdSJ5"
      },
      "source": [
        "#run kmeans with no. of clusters you see fit the most\n",
        "\n",
        "k = 4\n",
        "\n",
        "kmeans = KMeans(n_clusters = k)\n",
        "kmeans.fit(umap_embed_comments_array)\n",
        "\n",
        "df['KMeans ID'] = kmeans.labels_"
      ],
      "execution_count": 10,
      "outputs": []
    },
    {
      "cell_type": "code",
      "metadata": {
        "id": "bf3R2QBr3oOq"
      },
      "source": [
        "#merge all reviews of each cluster into one big sentence \n",
        "\n",
        "df_kmeans = pd.DataFrame(columns=[\"KMeans ID\", \"texts\"])\n",
        "\n",
        "\n",
        "for i in range(0, k):\n",
        "  row = []\n",
        "  row.append(i)\n",
        "  row.append(df['Review'][df['KMeans ID'] == i].to_string())\n",
        "  df_kmeans.loc[len(df_kmeans)] = row"
      ],
      "execution_count": 11,
      "outputs": []
    },
    {
      "cell_type": "code",
      "metadata": {
        "colab": {
          "base_uri": "https://localhost:8080/",
          "height": 175
        },
        "id": "UFo_nqQEL08U",
        "outputId": "0d139dc3-b9ca-4665-d2b0-a5e9362de8d8"
      },
      "source": [
        "df_kmeans"
      ],
      "execution_count": 12,
      "outputs": [
        {
          "output_type": "execute_result",
          "data": {
            "text/html": [
              "\n",
              "  <div id=\"df-c7e4a108-ee0a-4f56-aee3-693567ae5d1d\">\n",
              "    <div class=\"colab-df-container\">\n",
              "      <div>\n",
              "<style scoped>\n",
              "    .dataframe tbody tr th:only-of-type {\n",
              "        vertical-align: middle;\n",
              "    }\n",
              "\n",
              "    .dataframe tbody tr th {\n",
              "        vertical-align: top;\n",
              "    }\n",
              "\n",
              "    .dataframe thead th {\n",
              "        text-align: right;\n",
              "    }\n",
              "</style>\n",
              "<table border=\"1\" class=\"dataframe\">\n",
              "  <thead>\n",
              "    <tr style=\"text-align: right;\">\n",
              "      <th></th>\n",
              "      <th>KMeans ID</th>\n",
              "      <th>texts</th>\n",
              "    </tr>\n",
              "  </thead>\n",
              "  <tbody>\n",
              "    <tr>\n",
              "      <th>0</th>\n",
              "      <td>0</td>\n",
              "      <td>2      กวงทะเลเผา อาหารทะเลเค้าสดจริงๆเนื้อปูห...</td>\n",
              "    </tr>\n",
              "    <tr>\n",
              "      <th>1</th>\n",
              "      <td>1</td>\n",
              "      <td>3      วันนี้มีโอกาสตื่นเช้าครับเลยถึงโอกาสออก...</td>\n",
              "    </tr>\n",
              "    <tr>\n",
              "      <th>2</th>\n",
              "      <td>2</td>\n",
              "      <td>0      เป็นคนที่ชอบทาน Macchiato เป็นประจำ มีว...</td>\n",
              "    </tr>\n",
              "    <tr>\n",
              "      <th>3</th>\n",
              "      <td>3</td>\n",
              "      <td>13     เคยเป็นไหมกันไหมคะ หลังอาหารมื้อใหญ่ ต่...</td>\n",
              "    </tr>\n",
              "  </tbody>\n",
              "</table>\n",
              "</div>\n",
              "      <button class=\"colab-df-convert\" onclick=\"convertToInteractive('df-c7e4a108-ee0a-4f56-aee3-693567ae5d1d')\"\n",
              "              title=\"Convert this dataframe to an interactive table.\"\n",
              "              style=\"display:none;\">\n",
              "        \n",
              "  <svg xmlns=\"http://www.w3.org/2000/svg\" height=\"24px\"viewBox=\"0 0 24 24\"\n",
              "       width=\"24px\">\n",
              "    <path d=\"M0 0h24v24H0V0z\" fill=\"none\"/>\n",
              "    <path d=\"M18.56 5.44l.94 2.06.94-2.06 2.06-.94-2.06-.94-.94-2.06-.94 2.06-2.06.94zm-11 1L8.5 8.5l.94-2.06 2.06-.94-2.06-.94L8.5 2.5l-.94 2.06-2.06.94zm10 10l.94 2.06.94-2.06 2.06-.94-2.06-.94-.94-2.06-.94 2.06-2.06.94z\"/><path d=\"M17.41 7.96l-1.37-1.37c-.4-.4-.92-.59-1.43-.59-.52 0-1.04.2-1.43.59L10.3 9.45l-7.72 7.72c-.78.78-.78 2.05 0 2.83L4 21.41c.39.39.9.59 1.41.59.51 0 1.02-.2 1.41-.59l7.78-7.78 2.81-2.81c.8-.78.8-2.07 0-2.86zM5.41 20L4 18.59l7.72-7.72 1.47 1.35L5.41 20z\"/>\n",
              "  </svg>\n",
              "      </button>\n",
              "      \n",
              "  <style>\n",
              "    .colab-df-container {\n",
              "      display:flex;\n",
              "      flex-wrap:wrap;\n",
              "      gap: 12px;\n",
              "    }\n",
              "\n",
              "    .colab-df-convert {\n",
              "      background-color: #E8F0FE;\n",
              "      border: none;\n",
              "      border-radius: 50%;\n",
              "      cursor: pointer;\n",
              "      display: none;\n",
              "      fill: #1967D2;\n",
              "      height: 32px;\n",
              "      padding: 0 0 0 0;\n",
              "      width: 32px;\n",
              "    }\n",
              "\n",
              "    .colab-df-convert:hover {\n",
              "      background-color: #E2EBFA;\n",
              "      box-shadow: 0px 1px 2px rgba(60, 64, 67, 0.3), 0px 1px 3px 1px rgba(60, 64, 67, 0.15);\n",
              "      fill: #174EA6;\n",
              "    }\n",
              "\n",
              "    [theme=dark] .colab-df-convert {\n",
              "      background-color: #3B4455;\n",
              "      fill: #D2E3FC;\n",
              "    }\n",
              "\n",
              "    [theme=dark] .colab-df-convert:hover {\n",
              "      background-color: #434B5C;\n",
              "      box-shadow: 0px 1px 3px 1px rgba(0, 0, 0, 0.15);\n",
              "      filter: drop-shadow(0px 1px 2px rgba(0, 0, 0, 0.3));\n",
              "      fill: #FFFFFF;\n",
              "    }\n",
              "  </style>\n",
              "\n",
              "      <script>\n",
              "        const buttonEl =\n",
              "          document.querySelector('#df-c7e4a108-ee0a-4f56-aee3-693567ae5d1d button.colab-df-convert');\n",
              "        buttonEl.style.display =\n",
              "          google.colab.kernel.accessAllowed ? 'block' : 'none';\n",
              "\n",
              "        async function convertToInteractive(key) {\n",
              "          const element = document.querySelector('#df-c7e4a108-ee0a-4f56-aee3-693567ae5d1d');\n",
              "          const dataTable =\n",
              "            await google.colab.kernel.invokeFunction('convertToInteractive',\n",
              "                                                     [key], {});\n",
              "          if (!dataTable) return;\n",
              "\n",
              "          const docLinkHtml = 'Like what you see? Visit the ' +\n",
              "            '<a target=\"_blank\" href=https://colab.research.google.com/notebooks/data_table.ipynb>data table notebook</a>'\n",
              "            + ' to learn more about interactive tables.';\n",
              "          element.innerHTML = '';\n",
              "          dataTable['output_type'] = 'display_data';\n",
              "          await google.colab.output.renderOutput(dataTable, element);\n",
              "          const docLink = document.createElement('div');\n",
              "          docLink.innerHTML = docLinkHtml;\n",
              "          element.appendChild(docLink);\n",
              "        }\n",
              "      </script>\n",
              "    </div>\n",
              "  </div>\n",
              "  "
            ],
            "text/plain": [
              "  KMeans ID                                              texts\n",
              "0         0  2      กวงทะเลเผา อาหารทะเลเค้าสดจริงๆเนื้อปูห...\n",
              "1         1  3      วันนี้มีโอกาสตื่นเช้าครับเลยถึงโอกาสออก...\n",
              "2         2  0      เป็นคนที่ชอบทาน Macchiato เป็นประจำ มีว...\n",
              "3         3  13     เคยเป็นไหมกันไหมคะ หลังอาหารมื้อใหญ่ ต่..."
            ]
          },
          "metadata": {},
          "execution_count": 12
        }
      ]
    },
    {
      "cell_type": "code",
      "metadata": {
        "id": "JydvwIz5NcaI"
      },
      "source": [
        "#create regex compiler for removal of a character you don't want\n",
        "\n",
        "special_characters = \"/[!@#$%^&*']/g\"\n",
        "\n",
        "specialchar_pattern = re.compile(special_characters)"
      ],
      "execution_count": 13,
      "outputs": []
    },
    {
      "cell_type": "code",
      "metadata": {
        "id": "R8ymEA_2EhGi"
      },
      "source": [
        "#create regex compiler for removal of any emoji\n",
        "\n",
        "emoji_pattern = re.compile(\"[\"\n",
        "        u\"\\U0001F600-\\U0001F64F\"  # emoticons\n",
        "        u\"\\U0001F300-\\U0001F5FF\"  # symbols & pictographs\n",
        "        u\"\\U0001F680-\\U0001F6FF\"  # transport & map symbols\n",
        "        u\"\\U0001F1E0-\\U0001F1FF\"  # flags (iOS)\n",
        "                           \"]+\", flags=re.UNICODE)"
      ],
      "execution_count": 14,
      "outputs": []
    },
    {
      "cell_type": "code",
      "metadata": {
        "id": "9Q93YKJZK5ak"
      },
      "source": [
        "#create regex compiler for removal of digit\n",
        "\n",
        "number_pattern = re.compile(\"[0-9]\")"
      ],
      "execution_count": 15,
      "outputs": []
    },
    {
      "cell_type": "code",
      "metadata": {
        "id": "sHZ0HKlXNeSi"
      },
      "source": [
        "#create regex compiler for removal of white space\n",
        "\n",
        "space_pattern = re.compile(\"\\s+\")"
      ],
      "execution_count": 16,
      "outputs": []
    },
    {
      "cell_type": "code",
      "metadata": {
        "id": "-orHzqLkNupd"
      },
      "source": [
        "#create regex compiler for removal of .\n",
        "\n",
        "dot_pattern = re.compile(r\"\\.+\")"
      ],
      "execution_count": 17,
      "outputs": []
    },
    {
      "cell_type": "code",
      "metadata": {
        "id": "v7bW9th9N7oG"
      },
      "source": [
        "#create regex compiler for removal of \\\n",
        "\n",
        "backslash_pattern = re.compile(r\"\\\\+\")"
      ],
      "execution_count": 18,
      "outputs": []
    },
    {
      "cell_type": "code",
      "metadata": {
        "id": "ZGVvQhZz4tGs"
      },
      "source": [
        "#define a function to tokenize a sentence into words - you can define words you want to remove as well as new words for tokenization\n",
        "\n",
        "stopwords = list(pythainlp.corpus.thai_stopwords())\n",
        "removed_words = ['u', 'b', 'n', 'nn', 'nn-', '\\n', 'ร้าน','น','กิน','อร่อย','ทาน','ๆๆ','นะคะ','กา','บอ','ศ','ส','าน','รา','ข','น','กก','เม','ร้า','เ','อย','รี่',':','ท','ผม','สวัสดี','ดิชั้น','[',']','(',')','-','รับประทาน','tamp','nTamp','--',\"']\",\"['\",'?',\"']\", 'โมง','เวลา','โอเค','และ','nn------------','review' ]\n",
        "screening_words = stopwords + removed_words\n",
        "\n",
        "new_words = {\"สตารบัก\"}\n",
        "\n",
        "words = new_words.union(thai_words())\n",
        "\n",
        "custom_dictionary_trie = Trie(words)\n",
        "\n",
        "def tokenize_to_list(sentence):\n",
        "  merged = []\n",
        "  words = pythainlp.word_tokenize(str(sentence), engine='newmm', custom_dict=custom_dictionary_trie)\n",
        "  for word in words:\n",
        "    if word not in screening_words:\n",
        "      merged.append(word)\n",
        "  return merged"
      ],
      "execution_count": 19,
      "outputs": []
    },
    {
      "cell_type": "code",
      "metadata": {
        "id": "MnN1ekEoL9ug"
      },
      "source": [
        "#clean and tokenize sentences. count the occurences of each word\n",
        "\n",
        "df_kmeans['texts'] = df_kmeans['texts'].apply(lambda x: emoji_pattern.sub(r'', x))\n",
        "df_kmeans['texts'] = df_kmeans['texts'].apply(lambda x: specialchar_pattern.sub(r'', x))\n",
        "df_kmeans['texts'] = df_kmeans['texts'].apply(lambda x: number_pattern.sub(r'', x))\n",
        "df_kmeans['texts'] = df_kmeans['texts'].apply(lambda x: space_pattern.sub(r'', x))\n",
        "df_kmeans['texts'] = df_kmeans['texts'].apply(lambda x: dot_pattern.sub(r'', x))\n",
        "df_kmeans['texts'] = df_kmeans['texts'].apply(lambda x: backslash_pattern.sub(r'', x))\n",
        "df_kmeans['texts_tokenized'] = df_kmeans['texts'].apply(lambda x: tokenize_to_list(x))\n",
        "df_kmeans['texts_count'] = df_kmeans['texts_tokenized'].apply(lambda x: collections.Counter(x).most_common())"
      ],
      "execution_count": 20,
      "outputs": []
    },
    {
      "cell_type": "code",
      "metadata": {
        "colab": {
          "base_uri": "https://localhost:8080/",
          "height": 175
        },
        "id": "G0jG1yO889B2",
        "outputId": "cbb77f66-e614-44c2-a975-e4d14ae67942"
      },
      "source": [
        "#results of tokenization\n",
        "\n",
        "df_kmeans"
      ],
      "execution_count": 21,
      "outputs": [
        {
          "output_type": "execute_result",
          "data": {
            "text/html": [
              "\n",
              "  <div id=\"df-df8c7d7b-6f31-4db4-a11b-f68203a5d83e\">\n",
              "    <div class=\"colab-df-container\">\n",
              "      <div>\n",
              "<style scoped>\n",
              "    .dataframe tbody tr th:only-of-type {\n",
              "        vertical-align: middle;\n",
              "    }\n",
              "\n",
              "    .dataframe tbody tr th {\n",
              "        vertical-align: top;\n",
              "    }\n",
              "\n",
              "    .dataframe thead th {\n",
              "        text-align: right;\n",
              "    }\n",
              "</style>\n",
              "<table border=\"1\" class=\"dataframe\">\n",
              "  <thead>\n",
              "    <tr style=\"text-align: right;\">\n",
              "      <th></th>\n",
              "      <th>KMeans ID</th>\n",
              "      <th>texts</th>\n",
              "      <th>texts_tokenized</th>\n",
              "      <th>texts_count</th>\n",
              "    </tr>\n",
              "  </thead>\n",
              "  <tbody>\n",
              "    <tr>\n",
              "      <th>0</th>\n",
              "      <td>0</td>\n",
              "      <td>กวงทะเลเผาอาหารทะเลเค้าสดจริงๆเนื้อปูหวานไม่คส...</td>\n",
              "      <td>[กวง, ทะเล, เผา, อาหารทะเล, เค้า, สด, เนื้อ, ป...</td>\n",
              "      <td>[(ร้านอาหาร, 11), (ซอย, 6), (อาหาร, 6), (ราคา,...</td>\n",
              "    </tr>\n",
              "    <tr>\n",
              "      <th>1</th>\n",
              "      <td>1</td>\n",
              "      <td>วันนี้มีโอกาสตื่นเช้าครับเลยถึงโอกาสออกมาหาอะไ...</td>\n",
              "      <td>[มีโอกาส, ตื่น, เช้า, โอกาส, มาหา, อะ, ไช, อบ,...</td>\n",
              "      <td>[(รีวิว, 7), (บ้าน, 5), (ร้านกาแฟ, 5), (กาแฟ, ...</td>\n",
              "    </tr>\n",
              "    <tr>\n",
              "      <th>2</th>\n",
              "      <td>2</td>\n",
              "      <td>เป็นคนที่ชอบทานMacchiatoเป็นประจำมีวันนึงเดArt...</td>\n",
              "      <td>[คน, ชอบ, Macchiato, เป็นประจำ, นึง, เด, Artof...</td>\n",
              "      <td>[(ร้านกาแฟ, 22), (กาแฟ, 19), (ชอบ, 8), (คาเฟ่,...</td>\n",
              "    </tr>\n",
              "    <tr>\n",
              "      <th>3</th>\n",
              "      <td>3</td>\n",
              "      <td>เคยเป็นไหมกันไหมคะหลังอาหารมื้อใหญ่ต่อให้อิ่เช...</td>\n",
              "      <td>[ไหม, ไหม, หลังอาหาร, มื้อ, ต่อให้, อิ่, เช้า,...</td>\n",
              "      <td>[(ชา, 18), (นม, 14), (ไข่มุก, 14), (เครื่องดื่...</td>\n",
              "    </tr>\n",
              "  </tbody>\n",
              "</table>\n",
              "</div>\n",
              "      <button class=\"colab-df-convert\" onclick=\"convertToInteractive('df-df8c7d7b-6f31-4db4-a11b-f68203a5d83e')\"\n",
              "              title=\"Convert this dataframe to an interactive table.\"\n",
              "              style=\"display:none;\">\n",
              "        \n",
              "  <svg xmlns=\"http://www.w3.org/2000/svg\" height=\"24px\"viewBox=\"0 0 24 24\"\n",
              "       width=\"24px\">\n",
              "    <path d=\"M0 0h24v24H0V0z\" fill=\"none\"/>\n",
              "    <path d=\"M18.56 5.44l.94 2.06.94-2.06 2.06-.94-2.06-.94-.94-2.06-.94 2.06-2.06.94zm-11 1L8.5 8.5l.94-2.06 2.06-.94-2.06-.94L8.5 2.5l-.94 2.06-2.06.94zm10 10l.94 2.06.94-2.06 2.06-.94-2.06-.94-.94-2.06-.94 2.06-2.06.94z\"/><path d=\"M17.41 7.96l-1.37-1.37c-.4-.4-.92-.59-1.43-.59-.52 0-1.04.2-1.43.59L10.3 9.45l-7.72 7.72c-.78.78-.78 2.05 0 2.83L4 21.41c.39.39.9.59 1.41.59.51 0 1.02-.2 1.41-.59l7.78-7.78 2.81-2.81c.8-.78.8-2.07 0-2.86zM5.41 20L4 18.59l7.72-7.72 1.47 1.35L5.41 20z\"/>\n",
              "  </svg>\n",
              "      </button>\n",
              "      \n",
              "  <style>\n",
              "    .colab-df-container {\n",
              "      display:flex;\n",
              "      flex-wrap:wrap;\n",
              "      gap: 12px;\n",
              "    }\n",
              "\n",
              "    .colab-df-convert {\n",
              "      background-color: #E8F0FE;\n",
              "      border: none;\n",
              "      border-radius: 50%;\n",
              "      cursor: pointer;\n",
              "      display: none;\n",
              "      fill: #1967D2;\n",
              "      height: 32px;\n",
              "      padding: 0 0 0 0;\n",
              "      width: 32px;\n",
              "    }\n",
              "\n",
              "    .colab-df-convert:hover {\n",
              "      background-color: #E2EBFA;\n",
              "      box-shadow: 0px 1px 2px rgba(60, 64, 67, 0.3), 0px 1px 3px 1px rgba(60, 64, 67, 0.15);\n",
              "      fill: #174EA6;\n",
              "    }\n",
              "\n",
              "    [theme=dark] .colab-df-convert {\n",
              "      background-color: #3B4455;\n",
              "      fill: #D2E3FC;\n",
              "    }\n",
              "\n",
              "    [theme=dark] .colab-df-convert:hover {\n",
              "      background-color: #434B5C;\n",
              "      box-shadow: 0px 1px 3px 1px rgba(0, 0, 0, 0.15);\n",
              "      filter: drop-shadow(0px 1px 2px rgba(0, 0, 0, 0.3));\n",
              "      fill: #FFFFFF;\n",
              "    }\n",
              "  </style>\n",
              "\n",
              "      <script>\n",
              "        const buttonEl =\n",
              "          document.querySelector('#df-df8c7d7b-6f31-4db4-a11b-f68203a5d83e button.colab-df-convert');\n",
              "        buttonEl.style.display =\n",
              "          google.colab.kernel.accessAllowed ? 'block' : 'none';\n",
              "\n",
              "        async function convertToInteractive(key) {\n",
              "          const element = document.querySelector('#df-df8c7d7b-6f31-4db4-a11b-f68203a5d83e');\n",
              "          const dataTable =\n",
              "            await google.colab.kernel.invokeFunction('convertToInteractive',\n",
              "                                                     [key], {});\n",
              "          if (!dataTable) return;\n",
              "\n",
              "          const docLinkHtml = 'Like what you see? Visit the ' +\n",
              "            '<a target=\"_blank\" href=https://colab.research.google.com/notebooks/data_table.ipynb>data table notebook</a>'\n",
              "            + ' to learn more about interactive tables.';\n",
              "          element.innerHTML = '';\n",
              "          dataTable['output_type'] = 'display_data';\n",
              "          await google.colab.output.renderOutput(dataTable, element);\n",
              "          const docLink = document.createElement('div');\n",
              "          docLink.innerHTML = docLinkHtml;\n",
              "          element.appendChild(docLink);\n",
              "        }\n",
              "      </script>\n",
              "    </div>\n",
              "  </div>\n",
              "  "
            ],
            "text/plain": [
              "  KMeans ID  ...                                        texts_count\n",
              "0         0  ...  [(ร้านอาหาร, 11), (ซอย, 6), (อาหาร, 6), (ราคา,...\n",
              "1         1  ...  [(รีวิว, 7), (บ้าน, 5), (ร้านกาแฟ, 5), (กาแฟ, ...\n",
              "2         2  ...  [(ร้านกาแฟ, 22), (กาแฟ, 19), (ชอบ, 8), (คาเฟ่,...\n",
              "3         3  ...  [(ชา, 18), (นม, 14), (ไข่มุก, 14), (เครื่องดื่...\n",
              "\n",
              "[4 rows x 4 columns]"
            ]
          },
          "metadata": {},
          "execution_count": 21
        }
      ]
    },
    {
      "cell_type": "code",
      "source": [
        "df_kmeans['texts'][0]"
      ],
      "metadata": {
        "colab": {
          "base_uri": "https://localhost:8080/",
          "height": 109
        },
        "id": "KiYXzD-NO_p9",
        "outputId": "ec95ffed-7755-438d-8d4a-450d17ff9395"
      },
      "execution_count": 22,
      "outputs": [
        {
          "output_type": "execute_result",
          "data": {
            "application/vnd.google.colaboratory.intrinsic+json": {
              "type": "string"
            },
            "text/plain": [
              "'กวงทะเลเผาอาหารทะเลเค้าสดจริงๆเนื้อปูหวานไม่คสวัสดีเพื่อนๆสมาชิกนักรีวิวร้านอาหารชาวWongnaร้านส้มตำเจ๊พิมอยู่ถนนเลี่ยงตลาดหนองมนnเป็นร้ตอนเย็นๆหน่อยถ้าลงจากรถไฟฟ้าราชเทวีแล้วเดินย้อแมทช์นี้ที่หัวหินระหว่างที่ยังตกลงว่าทานกลมีคนแนะนำมาว่าต้องร้านนี้nเลยขอลองสักหน่อยไร้านตกแต่งน่ารักมากสไตล์นั่งอยู่ในบ้านก็จะมีขร้านอาหารเรื่อนปั้นหยาที่จอดรถกว้างขวางสะดวกสร้านอาหารไทยฟิวชั่นอร่อยสะอาดแต่ราคาสูงไปนิสาระพัดยำแบบแซ่บๆราคาไม่แพงnnร้านยำแซ่บสาเป็นร้านที่ได้ผักเยอะมากกกกกกกกกกกอร่อยคุ้มราร้านก๋วยเตี๋ยวเป็นร้านเก่าแก่ครองใจคนชลบุร้านเชฟมดรอบนี้มาจัดเป็นรอบที่สองหลังจากถูกใจริงๆจะไปกินร้านอื่นครับที่อยู่ในซอยเดียวกันแมีใครทำงานหรืออาศัยในย่านธุรกิจอย่างสุขุมวิทบ้โดยส่วนตัวแล้วไปทานที่ร้านแบล๊กแคนยอนที่สาขารามาถึงเมืองชลอีกครั้งค่าจาไปพัทยาแต่มอเตอร์เวร้านขายเป็ดห่านพะโล้เก่าแก่เขาเคลมว่าไม่มีสาขมีทั้งอาหารไทยและอาหารอีสานให้เลือกทานเมนูหลาขับรถเข้ามาในซอยโรงพยาบาลสมิติเวช(สุขุมวิทร้านกินดื่มแบบญี่ปุ่นหรืออิซากายะเป็นร้านอาหร้านนี้โฆษณาว่ามีเบียร์แช่เย็นเป็นวุ้นขายด้วอาหารอร่อยหลากหลายเมนูส้มตำอร่อยมีความเผ็ดหสวัสดีเพื่อนๆนักรีวิวร้านอาหารชาวWongnaicomทร้านไข่กระทะเลิศรสร้านนี้ตั้งอยู่ที่ถนนพระปกเกรสชาติน้ำยาปลาช่อนแกงไก่แบบชาวเหนือที่แตกต่าข้ามน้ำข้ามถิ่นปั่นจักรยานกันมาถึงหัวหินในวันนมื้อเที่ยงฝากท้องไว้กับร้านนี้ค่ะไม่ไกลจากที่ร้านนี้อยูในซอยตรงข้ามไปรษณีย์กลางเข้ามากินทดสวัสดีค่ะไม่รีรอเครื่องกำลังร้อนว้าวววว!!งเป็นคำถามยอดฮิตเวลาไปไหนคือกินอะไรดีแล้วยิ่ร้านนี้เปิดมานานพอควรเพียงแต่อยู่ในทำเลค่อนข้ผมเคยไปอาศัยอยู่ที่จีนมาพักนึงเลยค่อนข้างจะคุวันที่ไปทานเป็นBrunchsetค่ะราคาก็ต่างกันตัสาขานี้พนักงานเยอะครับแต่ไม่ค่อยจะเห็นเวลาลูกร้านอาหารญี่ปุ่นร้านนี้ใจจริงไม่อยากแนะนำเลยคร้านmangotreesilomเป็นร้านอาหารไทยในเครือใครที่เคยแวะเวียนไปแถวซอยอารียสัมพันธ์คงจะรู้กในโครงการpureplaceราชพฤกษ์มีร้านอาหารอยู่ไร้านนี้หาไม่ยากถ้ามาจากแมคโครจะอยู่ตรงหัวมุมสร้านเป็ดย่างเก่าแก่ของตลาดร้อยปีเนื้อเป็ดนุ่มร้านนี้มากินตามดีลเวปดีลชื่อดังค่ะ(ราคาดีลร้านแบบสไตล์ย้อนยุคไทยๆโบราณโทนสีเขียวไฟสลัวเป็นร้านสุดโปรดเพิ่งเปลี่ยนชื่อจากTheThirdร้านอาหารพิงงาnเพิ่งเปิดใหม่อยู่หน้าโรงแรมปาอาหารพื้นบ้านและอาหารป่ารสชาติเผ็ดแซ่บเวอร์แร้านแบล็คแคนยอนมีหลายสาขามากนอกจากกาแฟแล้วยังรายละเอียดร้านตามรีวิวท่านอื่นๆเลยนะคะnnราสวัสดีเพื่อนๆพี่ๆชาวนักชิมแห่งwongnaicomทุกถ้าอยากกินข้าวห่อไข่จะนึกถึงร้านนี้เป็นร้านแรกวันนี้ไปทำบุญกับที่บ้านอิ่มบุญกันไปnหลังจากร้านตั้งอยู่ชั้นล่างของโลตัสศาลายาnอยู่เยื้ถ้าพูดถึงกาแฟร้านBlackCanyonคงเป็นร้านแรกๆถ้านึกถึงเมนูที่อิ่มแล้วไม่อ้วนส่วนมากผมจะนึกจากพังงาโคกกลอยจะเดินทางไปภูเก็ตจะเห็นร้านอร้านOISHIbuffetอยู่ชั้นเซ็นทรัลพระรามnแวะมาทานหลายรอบแล้วค่ะอร่อยติดใจในรสชาติแบบนีร้านอาหารและกาแฟบรรยากาศสงบหลบความวุ่นวายบนทล่วงเลยวันเกิดเพื่อนสนิทอีกคนมานานมากกกกn(คืด้วยคอนเซ็ปของอาหารที่แปลกแหวกแนวnเลยต้องขอโดราคาค่อนข้างแพง(/คน)nแต่มันหลากหลายมากๆไร้านนี้เป็นอีกร้านนึงในซอยลิตเติ้ลไพน์หรือซอยหก่อนอื่นพูดถึงรสชาติของบุฟเฟ่ต์ก็ต้องบอกว่าเฉร้านอาหารสวนผักโอ้กะจู๋ร้านนี้เป็นร้านที่หลร้านยำแซ่บอยู่ชั้นห้างเซ็นทรัลพระรามnร้านสร้านตำแหลเป็นร้านส้มตำของเหล่าดาราในดวงใจคุณเป็นความบังเอิญเอามากๆที่ได้มาพบร้านอาหารที่รสอร่อยดีครับเพิ่งมาครั้งแรกขับรถหลงๆมาเห็นร้าค่ำนี้คุณเพื่อนอยากส้มตำหมูเฮาเลยพากันลงมากิน'"
            ]
          },
          "metadata": {},
          "execution_count": 22
        }
      ]
    },
    {
      "cell_type": "code",
      "source": [
        "df_kmeans['texts'][1]"
      ],
      "metadata": {
        "colab": {
          "base_uri": "https://localhost:8080/",
          "height": 109
        },
        "id": "iRgql9F9PA5p",
        "outputId": "24ea6742-6198-4ce4-dcb6-b64dffdeedcc"
      },
      "execution_count": 23,
      "outputs": [
        {
          "output_type": "execute_result",
          "data": {
            "application/vnd.google.colaboratory.intrinsic+json": {
              "type": "string"
            },
            "text/plain": [
              "'วันนี้มีโอกาสตื่นเช้าครับเลยถึงโอกาสออกมาหาอะไชอบมาทานร้านนี้ถ้าอยากกินอาหารเวียดนามใกล้บ้านเป็นร้านที่สะดุดตาที่สุดบนถนนจรัญเลยก็ว่าได้สถานที่ตั้งร้านปากซอยสุขุมวิทบริเวณด้านซขอไปกินกับเค้าบ้างเหอะแหมอยู่ใกล้บ้านตั้งขนาคิดถึงร้านนี้มากสมัยเรียนพิเศษที่ดาวองก์เยาวรเดือนแรกที่เค้าต่อคิวกัน-ชั่วโมงเราก็ว่หันไปหันมาอยากไปแตะขอบฟ้าบ้างอะไรบ้างจะไปถึงร้านนี้ใครๆก็รู้จักว่าเป็นร้านกาแฟแต่อาหารขอร้านนี้เป็นของดาราตลกชื่อดังค่ะคุณหม่ำนั่นเองปังภูเขาไฟกับอ่กาศร้อนๆเข้ากันฝุดๆnหวานๆอร่ใครรักข้าวห่อไข่มาจานนี้จะจุใจมากเพราะเมนูเกมาครั้งแรกจะไปตัดสินใจอะไรได้น้อผมเดินจากลานจโดยส่วนตัวชอบIcecaramelmacchiatoที่สุดเพราสารภาพว่าไม่เคยคิดจะไปต่อคิวซื้อมากินเองครับบnn------------เกริ่นๆๆnnทริปลงใต้ครั้งนี้ร้านจะเป็นร้านนั่งแทบจะติดทะเลเลยนะคะอารมณ์ชามีโอกาสได้ไปกินไอติมที่ร้านนี้มาชอบตั้งแต่การมาคนเดียวเดินเลือกอยู่นานอยากกินอะไรที่ไม่อ้ที่บอกว่าขอลบดาวออกดวงเพราะว่าคราวก่อนเคยมตอนแรกนึกว่าไม่อร่อยเลยลองเล่นๆปรากฎอร่อยมากผมเห็นรีวิวจากคุณRiceMangoผมก็หาโอกาสว่างตามร้านเค๊กที่ถูกพูดถึงอย่างมากเรียกได้ว่าป๊อปมากกราบขออภัยสำหรับคำพูดแต่ผมมีความรู้สึกอย่าระหว่างหนีการต่อคิวยาวเหยียดจากร้านอาหารชื่อดัอุดรมีร้านขายอาหารเช้าหลายร้านแต่ละร้านก็จะมีเวลาพักเที่ยงนี่ร้านอาหารที่ไหนๆคนก็เต็มไปหมดเรามากินร้านนี้เพราะใกล้บ้านแล้วร้านก็สวยดีเลน้องสาวแนะนำมาว่าขนมจีนน้ำย้อยอร่อยเด็ดเลยเจ่เป็นสาขาที่ทานบ่อยมากเพราะสาขานี้จะปิดเที่ยงคn---------เกริ่นๆnnคือเมาไงเด็กๆอย่าเอาเป็ร้านที่สองที่ผมจะมารีวิวในวันนี้เป็นร้านที่ขาร้านนี้เป็นร้านกาแฟที่เห็นแล้วสะดุดตามากเพราะตกกลางคืนผมก็อยากหาทานขนมปังและของหวานซักหน่อยเห็นว่าใกล้ทึ่ทำงานเลยลองดูค่ะครั้งแรกลองมืแวะมาทานอาหารโดยทางร้านมีให้เลือกทั้งn-อาหาจอดรถริมถนนหน้าร้านไม่ต้องกังวลที่เหลือเฟือเพเป็นร้านแรกที่รู้จักว่ามีเครื่องดื่มนี้ด้วยnทุกเช้าของวันเสาร์เราจะต้องไปซื้อกาแฟสตาร์บัหากพูดถึงร้านนี้ทุกคนอาจจะนึกถึงแต่กาแฟ/เครื่บรรยากาศร้านกาแฟที่เก๋มากตกแต่งสไตล์แขกๆๆเข้ร้านนี้ไปมาหลายรอบแล้วยังอร่อยเหมือนเดิมค่ะมร้านกาแฟบ้านบางอ้อเป็นร้านกาแฟที่ดูสบายๆnหารหลังจากไปเที่ยวปีใหม่กลับมาคุณชายร่ำร้องอยากกมีโอกาสได้ไปสวนผึ้งก็หลายครั้งเพิ่งเคยได้ไปลมาต่อกันที่ร้านอาหารอีสานกันนะคะกับที่รี่ค่ะร้านรังนกไทยเจ้าเก่าตลาดอนุสารสาขาnร้านนีสืบเนื่องเมื่ออาทิตย์ที่แล้ววันธรรมดาผมต้องมีส้มตำสมุทรปราการมีร้านอร่อยเด็ดๆอยู่หลายร้าเมนูเส้นๆวันนี้มาจัดก๋วยเตี๋ยวเรืออยุธยากันกัส้มตำอร่อยนะถ้าใครชอบรสจัดตอนสั่งสั่งปูปลารเช้านี้เกิดอยากทานข้าวแกงใต้เหมือนทุกอย่างจะเซดกาแฟกันไปเรียบร้อยแล้วต่อไปมาซดก๋วยเตี๋ยวกัเมื่อเราต้องการหาอาหารแถวเมืองพัทยาทานแบบง่ายๆร้านนี้เป็นร้านขายขนมปังปิ้งแล้วก็น้ำปั่นอยู่หวันนี้นายลักกี้จะมารีวิวร้านอาหารง่ายๆที่มีขาประโยชน์ของน้ำแตงโมปั่นnแตงโมมีมากมายหลายพันเนื่องด้วยวันนี้ไปเดินเล่นมาเดินไปเดินมาก็บ่ายเพิ่งสังเกตเห็นว่าtoastboxแอบมาเปิดร้านที่เบเกอร์รี่อร่อยดีมีให้เลือกหลากหลายไอติมมีหลบรรยากาศสงบชิวๆเห็นวิวทะเลด้วยครับพนักงานยิกาแฟอร่อยยมากกกกกกินแล้วรู้สึกดีซื้อกินเกือบร้านนี้มีรีวิวมากมายยยเลยตามรอยเหล่านักรีวก่อนอื่นเลยต้องขอบอกว่านี่คือรีวิวแรกในปีนี้ขอจำได้ว่าผมมากินครั้งแรกนานมากแล้วร้านยังไม่ใหด้วยความที่ช่วงนี้เป็นเทศกาลปีใหม่ร้านจึงปิดกปกติชอบทานพวกแป้งหรือขนมปังค่ะและร้านนี้ก็เป็ร้านนี้เป็นอีกร้านที่เหมาะสำหรับคอกาแฟหรือคนทีตั้งท่าจะไปกินมานานแล้วพอดีเพื่อนฝรั่งที่เคยทร้านcoffeewayเขาบายศรี(คนจันท์เรียกท่าจุ๊ย!วันนี้ดิช้ันมาทบนอาหารเวลาโมงเย็นที่ร้านแม่ร้านส้มตำโปงลางเป็นอีกร้านหนึ่งที่ค่อนข้างมีชืร้านอาหารใหญ่มากกกกกกกnเลี้ยวเข้ามาเจอห้องน้ครัวจันผาเขาใหญ่nสวัสดีค่ะวันนี้พวกเรากว่าสำหรับร้านนี้นั้นอยู่ในวัดด่านถนนพระรามครัครั้งแรกก็loveเลยไม่บอกอย่างนี้คงไม่ได้ร้เห็นหลายคนบอกว่าอร่อยอ้ะนะเลยมาชิมมาชมมาช้อปไเห็นรีวิวเลยมาลองทานร้านอยู่ไม่ไกลจากบ้านnรรีวิวในครั้งนี้ไม่ใช่สเต็กในร้านsteaklaoนะคสวัสดีค่ะชื่อร้านนี้อาจจะน่ากลัวสักหน่อยนะคะเมื่อวานไปเดินเล่นเดอะมอลล์บางแคแล้วเห็นร้านร้านนี้เป็นหนึ่งในความตั้งใจว่าอยากจะทำเรื่องร้านนี้หาไม่ยากครับอยู่ที่ปากซอยถนนนิมมาน'"
            ]
          },
          "metadata": {},
          "execution_count": 23
        }
      ]
    },
    {
      "cell_type": "code",
      "source": [
        "df_kmeans['texts'][2]"
      ],
      "metadata": {
        "colab": {
          "base_uri": "https://localhost:8080/",
          "height": 109
        },
        "id": "5NQEJrSNPBcS",
        "outputId": "8c7d92fb-7394-43fa-e34e-af5a97998210"
      },
      "execution_count": 24,
      "outputs": [
        {
          "output_type": "execute_result",
          "data": {
            "application/vnd.google.colaboratory.intrinsic+json": {
              "type": "string"
            },
            "text/plain": [
              "\"เป็นคนที่ชอบทานMacchiatoเป็นประจำมีวันนึงเดArtofCoffeeKasetsartเป็นร้านกาแฟรสชาติเยี่Starbucksnเกี่ยวกับร้าน:nร้านStarbucksนีnร้านเบอเกอรี่ร้านนี้อยู่ในร้านล้างรถชื่อว่าโลตัสพัฒนาการมีร้านชีทเค้กน่าหม่ำอยู่ร้านนึงค่ร้านกาแฟและเบเกอรี่โฮมเมดอร่อยๆกับสไสต์การแต่ร้าน-cakeร้านกาแฟแอนด์เบเกอรี่เป็นร้านกาแฟไปทานมาเพราะเห็นเปิดแบบบุฟเฟต์ทุกวันเสาร์อาทิตเคยทานทองม้วนสดมาหลายร้านแล้วnถ้าจะทานแบบอร่ร้านกาแฟร้านนี้เมื่อเข้าไปแล้วบรรยายกาศจะออกแร้านอาหารและเครื่องดื่มที่ราคาเป็นกันเองมากๆานพายจริณเป็นร้านคาเฟ่และเบเกอรี่เล็กๆที่มีสาร้านกาแฟนรสิงห์ณวังพญาไทnnได้ยินชื่อร้านการ้านนี้เป็นร้านกาแฟแนวน่ารักแนวๆขายกาแฟก็แนวๆร้านใหม่พึ่งเปิดได้เดือนเลยมาลองดูไม่ผิดหร้านนี้เป็นอีกร้านที่ติดใจเพราะเคยได้ลองทมาช๊อปปิ้งในห้างและเอารถมาล้างที่โปรคลีนประวปกติมาแถวนี้กินแต่stbลองวิสต้าคาเฟ่บ้างชอบบรเหมือนร้านจะย้ายมาจากใต้ดิอิมเพรสป่าวไม่มั่นนัดกับรุ่นน้องไว้ว่าจะพาไปเลี้ยงและอยากทานกาแฟส่วนตัวชอบทานกาแฟยี่ห้อนี้อยุ่ด้วยผมว่ากลิ่นหร้านนี้น่าจะเป็นCatCafeร้านแรกของประเทศไทยระหว่างรอจัดงานลอยกระทงเลยมานั่งพักดื่มกาแฟสัมองจากภาพนอกร้านคนที่เดินผ่านไปมาคงเห็นว่าร้าสวัสดีค่ะทานมื้อกลางวันแล้วก็มาทานกาแฟกันต่อเเอ๊ะ!!ขับรถผ่านนเจอมุมสงบร้านกาแฟเหมือนสวนนั่SipnSurf~Theinspirationcoffeennร้านนี้อยต้องมาทำงานที่เซ็นทรัลพอจอดรถเสร็จระหว่างเดินเข้าวังไปจิบกาแฟกันนะครับบอกได้เลยว่ามาร้านนร้านกาแฟอเมซอนมีหลายสาขาครับnแต่ที่แนะนำคือชอบพายต้องร้านนี้มีพายหลากหลายแบบและรสชาติเป็นร้านอาหารเช้ามีโจ๊กหมูหมี่ซั่วเกาเหลาเลการไปกินเริ่มจากอากาศร้อนเลยไปหาที่นั่งเล่นชิลร้านกาแฟร้านนี้เป็นอีกร้านนึงที่เราเห็นคนแวะมาไม่รู้จักบางอ้อแต่พอได้เจอที่นี้ก็ถึงบางอ้อกัตอนอยู่มหาวิทยาลัยเป็นที่ประจำเลยสำหรับร้านบ้ร้านนี้เป็นร้านกาแฟสดบรรยากาศสบายๆออกแนวอิงธรรเกี่ยวกับร้านNearRiverGoldentriangle:nร้ร้านสีชมพูหวานแหววสะดุดตาที่สยามพารากอนชั้นบ้านไร่กาแฟอยู่ตรงBTSเอกมัยร้านใหญ่พอสมควรเลถ้วยกาแฟสีส้มมีข้อความที่มาที่ไปของกาแฟของทางรทานกาแฟแก้ง่วงในยามบ่ายที่ร้านlordofcoffeeสวัสดีเพื่อนๆชาววงในในวันจันทร์ที่กคนะกาแฟของArtofCoffeeอาจจะไม่ถูกใจnคนที่ชอบทร้านอยู่ติดริมบึงบรรยากาศดูหรูดีครับเฟอร์นิเร้านสีขาวดูสะอาดตามากๆโต๊ะกับเก้าอี้อาจจะยังไเราชอบแวะไปซื้ออาหารแช่เเข็งที่ร้านCPแถวซอยหมร้านเค้กกาแฟและอาหารที่น่านั่งอีกร้านหนึ่งตัมาแบบงงๆหายากนิดนึงแต่ถ้าหาเจอแล้วไม่ผิดหวังเขาเล่าว่าร้านนี้ถือว่าเป็นคาเฟ่ร้านแรกของปเรื่องขนมไม่ค่อยสันทัดดังนั้นขอreviewเฉพาะเรร้านกาแผนรสิงห์ณวังพญาไทกับบรรยากาศคลาสสิคร้านนี้อยู่ชั้นGของพารากอนอยู่ติดกับสเวนเซ่นร้านน่ารักมากคะสะอาดมีการดูแลน้องแมวอย่างดีพอดีแวะมาจากโรงพยาบาลสงฆ์นึกขึ้นได้ว่าอยแวะกินกาแฟอเมซอนปั้มปตทเกื้อสกุลจิบพอกระหาเด่นสุดของร้านคงเป็นชุดโต๊ะเก้าอี้สีสันเด่นเปนร้านกาแฟที่มานั่งเล่นแล้วรู้สึกสบายใจจิงๆแวิสต้าคาเฟ่อยู่ติดกับร้านวีราสุที่เน้นขายเการสั่งกาแฟและเค๊กตล้ายๆกับStarbucknคือห้องแอร์กว้างขวางสมราคารสชาติเข้มข้นพอดีดื่หาที่นั่งพักรอรอบหนังมองไปมองมาร้านนี้เป็นร้ามาลองร้านนี้เป็นครั้งแรกภายนอกตกแต่งสไตล์บ้านเปิดได้ยังไม่ถึงเดือนตกแต่งร้านสวยดีมีโซนเอ้ร้านกาแฟในวังตั้งแต่สมัยรัชกาลที่ร้านนี้เร้านกาแฟร่ำเปิงร้านนี้ตั้งอยู่ไม่ไกลกับวัดร่ำเเป็นร้านกาแฟที่มีบรรยากาศคลาสสิคย้อนยุคแต่ให้สวัสดีค่ะมาต่อร้านกาแฟน่ารักๆแถวพัทยาต่อเลยคแดดเริ่มร่มลมเริ่มตกก็ถึงเพลานั่งจิบชากาแฟตามชอบมาทานมัฟฟิ่นช็อคโกแล็ตสตอเบอรี่บูลเบอรี่สวัสดีค่ะวันนี้มาร่วมงานปาร์ตี้กับเพจอาซาฮีแลพอดีมีโอกาสแวะไปหาพี่ชายที่จังหวัดระยองพี่ชายร้านเค้กhomemadeนุ่มละมุนโดยเฉพาะmochachoร้านอเมซอนร้านนี้ตั้งอยู่ภายในปั้มปตท(แต่เดเว้นว่างในการรีวิวมาพักนึงแล้ววันนี้เแาซะหนร้านคาเฟ่ชิวๆร้านนี้ตั้งอยู่ที่ชั้นห้างมาบุข้อมูลที่ลงรีวิวเป็นความเห็นส่วนตัวที่ได้พบเจอร้านกาแฟร้านนี้จะเป็นสไตล์อาร์ตๆศิลปินอาจจะเปแค่แวะไปทานกาแฟค่ะกาแฟร้อนทุกอย่างบาทแม้เป็นร้านที่เดินผ่านแล้วหอมกาแฟจังเลยยั่วยวนมาร้านVistaCafeเป็นอีกหนึ่งร้านกาแฟน่ารักที่ถ้าใครไม่อยากพาคุณแม่ไปกินอาหารหนักๆหรือไม่อยในวันนี้นายลักกี้ก็ยังคงตระเวนกินอยู่ที่ตลาดน้nnแถวเสนานิคมใกล้ๆกับหมู่บ้านอมรพันธ์ตรงป้ร้านนี้เป็นร้านกาแฟที่พิถีพิถันในทุกขั้นตอนจนไเจอร้านครั้งแรกตะลึงกับความอลังการของร้านมากๆเรือนกาแฟByPupe'ร้านกาแฟชิลๆของดีเจปูเป้วร้่านฝ้ายเป็นร้านคู่กับเมืองเชียงใหม่มานานอยูร้านตำนานป่าเป็นร้านอาหารชื่อดังของจังหวัดระยอวันนี้ไปตระเวนนั่งร้านกาแฟเปิดใหม่จู่ๆก็นึกถึเกี่ยวกับร้านโชว์ฮ่วย:nร้านนี้ตั้งอยู่ที่เดีร้านแบ่งเป็นโซนnนั่งรอnโต๊ะกิน-noผมชอบร้านกาแฟในเครืออเมซอนซ่งส่วนใหญ่เปิดในปร้านนี้ก็เป็นกาแฟท๊อปฮิตในใจใครหลายๆคน(อย่างร้านพายจริณเป็นร้านคาเฟ่และเบเกอรี่เล็กๆที่มีร้านกาแฟน่ารักๆในปั๊มนํ้ามันปิโตรนาสบนเส้นทางร้านสะอาดดีตกแต่งสวยงามมีที่จอดรถราคาเมนูต่เช้าๆรีบๆวิ่งมาเข่าห้องเรียนแทบไม่ทันแต่ต้องร้านนี้เป็นร้านกาแฟเล็กๆข้างๆร้านๆHappyManทรูคอฟฟี่สาขาซีคอนอยู่ในศูนย์บริการของทรูชั้น\""
            ]
          },
          "metadata": {},
          "execution_count": 24
        }
      ]
    },
    {
      "cell_type": "code",
      "source": [
        "df_kmeans['texts'][3]"
      ],
      "metadata": {
        "colab": {
          "base_uri": "https://localhost:8080/",
          "height": 109
        },
        "id": "EMpAntT7Ip_a",
        "outputId": "6edf477a-de0a-4d81-a6fe-1042d7f0bd75"
      },
      "execution_count": 25,
      "outputs": [
        {
          "output_type": "execute_result",
          "data": {
            "application/vnd.google.colaboratory.intrinsic+json": {
              "type": "string"
            },
            "text/plain": [
              "'เคยเป็นไหมกันไหมคะหลังอาหารมื้อใหญ่ต่อให้อิ่เช้าๆบ่ายๆหรือเย็นๆอาหารว่างที่คนเรามักหยิบจัระหว่างมุ่งหน้าสู่ชัยภูมิเราแวะเติมพลังกันที่เป็นร้านเครื่องดื่มขนาดกระทัดรัดพื้นที่น้อยเร้านขายเครื่องดื่มผลิตภัณฑ์ชาเขียวไอศรีมชาเขีชานมไข่มุกจริงๆคืออ้วนมากnไม่ค่อยอยากกินเลยเดินผ่านร้านนี้มาหลายครั้งแล้วค่ะสังเกตว่าร้าร้านอยู่โซนซุ้มขายของเล็กๆตรงกลางนะคะใกล้ๆกับบนห้างBig-Cราชดำรินิวคุงได้ไปเจอร้านขายน้ำทน่าจะใช่นะOchayaมีสาขาเยอะมากๆทั้งตึกออฟฟร้านAprilstoreเป็นร้านกาแฟขนาดเล็กตั้งอยู่วันนี้มาเดินเที่ยวสยามคะถ้าชาไข่มุกอร่อยๆต้องร้านAprilstoreอยู่บริเวณสวนของยูเซ็นเตอร์วันก่อนนิวคุงไปเดินเล่นหาอะไรกินในย่านหอการค้าวันนี้ได้ฤกษ์มารีวิวร้านชานมไข่มุกร้านที่โปรดเป็นคนชอบทานชาไข่มุกลองมาแล้วหลายร้านติดใจรสร้านALittleSweetเป็นร้านของหวานสไตล์dessennnnnร้านDakasiเป็นร้านเครื่องดื่มครับร้านวโรชาเป็นร้านก๋วยเตี๋ยวเล็กๆที่เปิดมานานร้านชานมไข่มุกร้านนี้ที่เราจะมาแนะนำมีชื่อร้ายจากโปรโมชั่นของopenriceทำให้ได้ลองชิมชายี่ห้มาเดินโฮมโปรกับหลานคุณหลานเกิดอยากดื่มชานมหวTeaStoryร้านชานมไข่มุกกิ๊บเก๋ตั้งอยู่กลางห้าเป็นร้านที่ตั้งอยุตรงถนนนิมมานเลยเห็นแต่ไกลรเครปพันชั้น!ไปมาหลายหนแล้วแต่ไม่เคยรีวิวnจัเล่าตอนที่ไปถึงร้านnร้านนมโจ%เป็นร้านขาของหวานฝรั่งเศสสไตล์ญี่ปุ่นเป็นอาหารที่ถูกจับอยากจะบอกไปตามตรงเลยว่าร้านนี้แหล่ะร้านชานมไขข้อมูลที่ลงรีวิวเป็นความเห็นส่วนตัวที่ได้พบเจอร้านไอศครีมน่ารักๆเหมาะกับพาครอบครัวมานั่งทานเป็นร้านที่แวะเติมความหวานบ่อยมากn>>Locationร้านนี้เป็นแหล่งรวมเครื่องดื่มนานาชนิดทั้งนมชจะว่าไปผมก็ไม่ได้ทานชาไข่มุกมานานเหมือนกันครับลักษณะร้าน:เป็นร้านนมที่ขายในช่วงเวลาเย็นๆถเมื่อวานไปเดินTerminalค่ะอยากลองอะไรใหม่ร้านไออุ่นชาไข่มุกมีนํ้าปั่นหลากหลายรสชาติWawaChaร้านชานมไข่มุกจากไต้หวันภายใต้การบริห[สถานที่ตั้ง]nTheMallBangkapiFl(ตรงข้ามร้านอยู่BigCสุขาภิบาลติดร้านOrientalnPทานชาเขียวกีวี่+ไข่มุกเป็นประจำค่ะnทานกี่สาขร้านนี้เป็นร้านเล็กๆที่ตั้งอยู่เเถวสยามตรงข้านึกถึงชานมไข่มุกต้นตำหรับไต้หวันแท้ๆต้องนึกถึDakasiร้านชานมไข่มุกสูตรไต้หวันที่ตอนนี้มีสาขนานๆทีจะได้มาทำธุระที่เซ็นทรัลปิ่นเกล้าเดินๆFukumatchaอยู่ชั้นเดียวกับโรงหนังsfเดอะมอลหลายคนคงเคยได้ยินข่าวว่าทานชานมไข่มุกมากๆไม่ดีมาOchayaสั่งแบบเมนูbasicเลยชานมไข่มุกราคร้านบ้านไร่กาแฟเป็นร้านติดBTSเอกมัยร้านใหญ่'"
            ]
          },
          "metadata": {},
          "execution_count": 25
        }
      ]
    },
    {
      "cell_type": "code",
      "metadata": {
        "colab": {
          "base_uri": "https://localhost:8080/"
        },
        "id": "n0LZ5H8_Dqvn",
        "outputId": "7b418285-63e4-4dda-c07d-25719b61f085"
      },
      "source": [
        "#show top keywords of each cluster\n",
        "\n",
        "top_N_words = 50\n",
        "\n",
        "for i in range(0, len(df_kmeans)):\n",
        "  print(f\"Cluster ID : {i}\\n\")\n",
        "  print(f\"Most common words include : {list(df_kmeans['texts_count'][i])[:top_N_words]}\\n\")\n",
        "\n",
        "#tune a model by remove unwanted characters and words and add more words to a custom dictionary"
      ],
      "execution_count": 26,
      "outputs": [
        {
          "output_type": "stream",
          "name": "stdout",
          "text": [
            "Cluster ID : 0\n",
            "\n",
            "Most common words include : [('ร้านอาหาร', 11), ('ซอย', 6), ('อาหาร', 6), ('ราคา', 5), ('เพื่อน', 4), ('ส้มตำ', 4), ('ไทย', 4), ('แซ่บ', 4), ('รสชาติ', 4), ('รีวิว', 3), ('ไร้', 3), ('ยำ', 3), ('เก่าแก่', 3), ('รอบ', 3), ('เป็ด', 3), ('เมนู', 3), ('ห', 3), ('ดีล', 3), ('กาแฟ', 3), ('เนื้อ', 2), ('ถนน', 2), ('หัว', 2), ('หิน', 2), ('สไตล์', 2), ('บ้าน', 2), ('แพง', 2), ('สา', 2), ('คน', 2), ('ชล', 2), ('อาศัย', 2), ('สุขุมวิท', 2), ('แคนยอน', 2), ('สาขา', 2), ('มาถึง', 2), ('ขาย', 2), ('ขับรถ', 2), ('เข้ามา', 2), ('ญี่ปุ่น', 2), ('หลากหลาย', 2), ('เผ็ด', 2), ('ไข่', 2), ('รส', 2), ('ตั้งอยู่', 2), ('ข้าม', 2), ('นึง', 2), ('นึกถึง', 2), ('อิ่ม', 2), ('พูดถึง', 2), ('ชั้น', 2), ('เซ็นทรัล', 2)]\n",
            "\n",
            "Cluster ID : 1\n",
            "\n",
            "Most common words include : [('รีวิว', 7), ('บ้าน', 5), ('ร้านกาแฟ', 5), ('กาแฟ', 5), ('อาหาร', 4), ('ชอบ', 4), ('ร้านอาหาร', 4), ('มีโอกาส', 3), ('ถนน', 3), ('คิว', 3), ('ครั้งแรก', 3), ('ซื้อ', 3), ('เลือก', 3), ('ลอง', 3), ('หา', 3), ('ดี', 3), ('น้ำ', 3), ('สาขา', 3), ('เช้า', 2), ('โอกาส', 2), ('สะดุดตา', 2), ('ปากซอย', 2), ('เค้า', 2), ('ดาว', 2), ('รู้จัก', 2), ('เมนู', 2), ('เก', 2), ('เดิน', 2), ('เกริ่น', 2), ('ทะเล', 2), ('ไอติม', 2), ('เค', 2), ('พูดถึง', 2), ('สำหรับ', 2), ('อย่า', 2), ('ชื่อ', 2), ('คน', 2), ('เด็ด', 2), ('ค', 2), ('เป็ร้าน', 2), ('ขา', 2), ('ขนมปัง', 2), ('ยา', 2), ('ไปมา', 2), ('ปีใหม่', 2), ('ก', 2), ('ส้มตำ', 2), ('ก๋วยเตี๋ยว', 2), ('สั่ง', 2), ('ร', 2)]\n",
            "\n",
            "Cluster ID : 2\n",
            "\n",
            "Most common words include : [('ร้านกาแฟ', 22), ('กาแฟ', 19), ('ชอบ', 8), ('คาเฟ่', 6), ('แวะ', 6), ('น่ารัก', 5), ('นั่ง', 5), ('เจอ', 5), ('คน', 4), ('นึง', 4), ('อ', 4), ('เบเกอรี่', 4), ('พาย', 4), ('วัง', 4), ('แนว', 4), ('กร้าน', 4), ('แถว', 4), ('ซอน', 4), ('บรรยากาศ', 4), ('ร', 4), ('ชั้น', 4), ('ดี', 4), ('ตั้งอยู่', 4), ('เด', 3), ('รสชาติ', 3), ('เค้ก', 3), ('อาหาร', 3), ('อี', 3), ('ลอง', 3), ('รอ', 3), ('พัก', 3), ('นอ', 3), ('จิบ', 3), ('สะอาด', 3), ('โต๊ะ', 3), ('หา', 3), ('ตกแต่ง', 3), ('เบอ', 2), ('อา', 2), ('ราคา', 2), ('จ', 2), ('ริ', 2), ('พญาไท', 2), ('ขาย', 2), ('เดือน', 2), ('ห', 2), ('ห้าง', 2), ('รถ', 2), ('ประ', 2), ('เหมือน', 2)]\n",
            "\n",
            "Cluster ID : 3\n",
            "\n",
            "Most common words include : [('ชา', 18), ('นม', 14), ('ไข่มุก', 14), ('เครื่องดื่ม', 4), ('ตั้งอยู่', 3), ('รีวิว', 3), ('ลอง', 3), ('เดิน', 3), ('ไต้หวัน', 3), ('ไหม', 2), ('แวะ', 2), ('เติม', 2), ('นขา', 2), ('ชาเขียว', 2), ('นิว', 2), ('คุง', 2), ('เจอ', 2), ('ขาย', 2), ('Ochaya', 2), ('Aprilstore', 2), ('สยาม', 2), ('คน', 2), ('ของหวาน', 2), ('สไตล์', 2), ('Dakasi', 2), ('ทำ', 2), ('หลาน', 2), ('ที่ตั้ง', 2), ('ติด', 2), ('สา', 2), ('หลังอาหาร', 1), ('มื้อ', 1), ('ต่อให้', 1), ('อิ่', 1), ('เช้า', 1), ('บ่าย', 1), ('เย็น', 1), ('อาหารว่าง', 1), ('คนเรา', 1), ('หยิบ', 1), ('จัระ', 1), ('หว่าง', 1), ('มุ่งหน้า', 1), ('ชัยภูมิ', 1), ('พลัง', 1), ('กันที่', 1), ('ขนาด', 1), ('กระทัดรัด', 1), ('พื้นที่', 1), ('เร้า', 1)]\n",
            "\n"
          ]
        }
      ]
    },
    {
      "cell_type": "markdown",
      "source": [
        "## Result discussion"
      ],
      "metadata": {
        "id": "KAf6g83eMX8I"
      }
    },
    {
      "cell_type": "markdown",
      "source": [
        "Cluster ID : 0\n",
        "\n",
        "เกี่ยวกับการรีวิวร้านอาหาร ที่มีกาแฟด้วย\n",
        "\n",
        "\n",
        "Cluster ID : 1\n",
        "\n",
        "เกี่ยวกับร้านอาหาร การรีวิวร้านอาหาร ด้านรสชาติ ราคา เช่น ร้านส้มตำ ยำ\n",
        "\n",
        "Cluster ID : 2\n",
        "\n",
        "เกี่ยวกับร้านกาเฟ่ คาเฟ่ เบเกอรี่ ที่เป็นแนวน่ารัก สามารถนั่งรับประทานได้ บรรยากาศดี\n",
        "\n",
        "\n",
        "Cluster ID : 3\n",
        "\n",
        "เกี่ยวกับเครื่องดื่มประเภท ชานมไข่มุก ชาเขียว \n",
        "\n",
        "\n",
        "\n",
        "\n",
        "\n"
      ],
      "metadata": {
        "id": "RIojaJC-MeIq"
      }
    },
    {
      "cell_type": "markdown",
      "metadata": {
        "id": "9Qe8TReCQTOo"
      },
      "source": [
        "**Step 3 - document clustering using Agglomorative Clustering with cosine similarity**"
      ]
    },
    {
      "cell_type": "code",
      "metadata": {
        "id": "VWgW-tCkcPgU"
      },
      "source": [
        "#clustering using agglomorative clustering\n",
        "\n",
        "knn_graph = kneighbors_graph(embed_comments_array, 5, include_self=False)\n",
        "model = AgglomerativeClustering(linkage=\"average\", connectivity=knn_graph, n_clusters=10, affinity=\"cosine\")\n",
        "model.fit(embed_comments_array)\n",
        "df['Agglomerative ID'] = model.labels_"
      ],
      "execution_count": 27,
      "outputs": []
    },
    {
      "cell_type": "code",
      "metadata": {
        "id": "XHfsJyL8dmGC"
      },
      "source": [
        "#merge all reviews of each cluster into one big sentence \n",
        "\n",
        "df_Agglomerative = pd.DataFrame(columns=[\"Agglomerative ID\", \"texts\"])\n",
        "\n",
        "\n",
        "for i in range(0, k):\n",
        "  row = []\n",
        "  row.append(i)\n",
        "  row.append(str(df['Review'][df['Agglomerative ID'] == i].tolist()))\n",
        "  df_Agglomerative.loc[len(df_Agglomerative)] = row"
      ],
      "execution_count": 28,
      "outputs": []
    },
    {
      "cell_type": "code",
      "metadata": {
        "id": "7hsSbTWvdtK2"
      },
      "source": [
        "#clean and tokenize sentences. count the occurences of each word\n",
        "\n",
        "df_Agglomerative['texts'] = df_Agglomerative['texts'].apply(lambda x: emoji_pattern.sub(r'', x))\n",
        "df_Agglomerative['texts'] = df_Agglomerative['texts'].apply(lambda x: specialchar_pattern.sub(r'', x))\n",
        "df_Agglomerative['texts'] = df_Agglomerative['texts'].apply(lambda x: number_pattern.sub(r'', x))\n",
        "df_Agglomerative['texts'] = df_Agglomerative['texts'].apply(lambda x: space_pattern.sub(r'', x))\n",
        "df_Agglomerative['texts'] = df_Agglomerative['texts'].apply(lambda x: dot_pattern.sub(r'', x))\n",
        "df_Agglomerative['texts'] = df_Agglomerative['texts'].apply(lambda x: backslash_pattern.sub(r'', x))\n",
        "df_Agglomerative['texts_tokenized'] = df_Agglomerative['texts'].apply(lambda x: tokenize_to_list(x))\n",
        "df_Agglomerative['texts_count'] = df_Agglomerative['texts_tokenized'].apply(lambda x: collections.Counter(x).most_common())"
      ],
      "execution_count": 29,
      "outputs": []
    },
    {
      "cell_type": "code",
      "metadata": {
        "colab": {
          "base_uri": "https://localhost:8080/"
        },
        "id": "HsRWk5oHd0UH",
        "outputId": "286af6ce-00ef-4c1f-d58c-a4c837437156"
      },
      "source": [
        "#show top keywords of each cluster\n",
        "\n",
        "top_N_words = 50\n",
        "\n",
        "for i in range(0, len(df_Agglomerative)):\n",
        "  print(f\"Cluster ID : {i}\\n\")\n",
        "  print(f\"Most common words include : {list(df_Agglomerative['texts_count'][i])[:top_N_words]}\\n\")"
      ],
      "execution_count": 30,
      "outputs": [
        {
          "output_type": "stream",
          "name": "stdout",
          "text": [
            "Cluster ID : 0\n",
            "\n",
            "Most common words include : [('รสชาติ', 407), ('ดี', 347), ('กาแฟ', 311), ('เมนู', 309), ('สั่ง', 301), ('อาหาร', 285), ('ราคา', 273), ('ชา', 262), ('บาท', 242), ('ชอบ', 229), ('คน', 215), (\"','\", 215), ('หวาน', 206), ('นั่ง', 201), ('จาน', 196), ('ลอง', 178), ('บรรยากาศ', 151), ('นม', 149), ('ดู', 147), ('เค้า', 136), ('หอม', 136), ('รส', 136), ('เค้ก', 132), ('เนื้อ', 130), ('เลือก', 126), ('เครื่องดื่ม', 122), ('บริการ', 116), ('น้ำ', 111), ('โต๊ะ', 109), ('ใส่', 107), ('เหมือน', 107), ('หมู', 107), ('ไข่มุก', 107), ('สำหรับ', 103), ('ขาย', 99), ('ร้านกาแฟ', 97), ('แนะนำ', 95), ('ที่นี่', 94), ('แก้ว', 93), ('ทำ', 93), ('ส้มตำ', 88), ('ปลา', 87), ('กรอบ', 86), ('ชิ้น', 83), ('\"', 82), ('แพง', 80), ('ไทย', 80), ('ตัว', 80), ('ชิม', 79), ('ร้อน', 78)]\n",
            "\n",
            "Cluster ID : 1\n",
            "\n",
            "Most common words include : [('แตงโม', 22), ('น้ำ', 8), ('ปั่น', 6), ('เนื้อ', 6), ('เลือก', 4), ('ซื้อ', 4), ('ดื่ม', 4), ('พันธุ์', 3), ('แก้', 3), ('อาหาร', 3), ('ร่างกาย', 3), ('เมล็ด', 2), ('มีรส', 2), ('หวาน', 2), ('เย็น', 2), ('ยังมี', 2), ('วิตามิน', 2), ('สีแดง', 2), ('ผลไม้', 2), ('กระหาย', 2), ('ดี', 2), ('สำหรับ', 2), ('ล้าง', 2), ('โรค', 2), ('ประโยชน์', 1), ('นิยม', 1), ('จินต', 1), ('หรา', 1), ('ตอ', 1), ('ปิ', 1), ('โด', 1), ('สีเหลือง', 1), ('น้ำผึ้ง', 1), ('ชอบ', 1), ('รำคาญ', 1), ('เดี๋ยวนี้', 1), ('เหมือนกัน', 1), ('สนนราคา', 1), ('แพง', 1), ('น่าดู', 1), ('สารอาหาร', 1), ('มีประโยชน์', 1), ('แคลเซียม', 1), ('ฟอสฟอรัส', 1), ('เหล็ก', 1), ('โปแตสเซียม', 1), ('โดยเฉพาะ', 1), ('เอ', 1), ('เป็นพิเศษ', 1), ('ฉ่ำ', 1)]\n",
            "\n",
            "Cluster ID : 2\n",
            "\n",
            "Most common words include : [('แย่มาก', 3), ('โต๊ะ', 2), ('รอง', 2), ('แก้ว', 2), ('ดิ', 1), ('ช้ัน', 1), ('ทบ', 1), ('อาหาร', 1), ('เย็น', 1), ('แม่ศรี', 1), ('เรือน', 1), ('โฮมโปร', 1), ('แขก', 1), ('พนักงานบริการ', 1), ('เมนู', 1), ('ยืน', 1), ('คุย', 1), ('ส่ัง', 1), ('กาแฟ', 1), ('พนักงาน', 1), ('กระแทก', 1), ('หันไป', 1), ('ดู', 1), ('สิ', 1), ('จาน', 1), ('เปล่า', 1), ('ใบ', 1), ('นึง', 1), ('อันนี้', 1), ('บริการ', 1), ('แน่นอน', 1)]\n",
            "\n",
            "Cluster ID : 3\n",
            "\n",
            "Most common words include : [('นม', 3), ('แน่น', 2), ('เท', 2), ('แก้', 2), ('เรื่อง', 1), ('ขนม', 1), ('สันทัด', 1), ('ดังนั้น', 1), ('เฉพาะเรื่อง', 1), ('กาแฟร้อน', 1), ('มากเกินไป', 1), ('โถม', 1), ('ย้ำ', 1), ('รอบ', 1), ('มีผลต่อ', 1), ('ช๊อต', 1), ('กาแฟ', 1), ('ซ๊อต', 1), ('พี่', 1), ('เล่น', 1), ('รอง', 1), ('น้ำร้อน', 1), ('เติม', 1), ('ดื้อ', 1), ('งัั้น', 1), ('ตั้งแต่แรก', 1), ('ดีกว่า', 1), ('ตี', 1), ('เสด', 1), ('มาส', 1), ('ปิน', 1), ('ทำ', 1), ('หก', 1), ('เจอ', 1), ('อีกแล้ว', 1), ('ช้อน', 1), ('ตัก', 1), ('ฟอง', 1), ('ออกมา', 1), ('โปะ', 1), ('อีกที', 1), ('อันนี้', 1), ('Cap', 1), ('สำหรับ', 1), ('แนะนำ', 1), ('Mocha', 1), ('ถนัด', 1)]\n",
            "\n"
          ]
        }
      ]
    },
    {
      "cell_type": "markdown",
      "source": [
        "## Result discussion"
      ],
      "metadata": {
        "id": "Mx8Py_cusOw0"
      }
    },
    {
      "cell_type": "markdown",
      "source": [
        "Cluster ID : 0\n",
        "\n",
        "เกี่ยวกับรสชาติ ราคา บรรยากาศ และการบริการของร้านอาหาร\n",
        "\n",
        "Cluster ID : 1\n",
        "\n",
        "เกี่ยวกับเครื่องดื่มประเภทปั่น แตงโมปั่นมีที่มีรสหวาน มีวิตามิน แก้กระหาย เย็น\n",
        "\n",
        "Cluster ID : 2\n",
        "\n",
        "เกี่ยวกับการรีวิวร้านอาหารในเรื่องที่ไม่พอใจ ซึ่งดูจากคำว่าแย่มาก\n",
        "\n",
        "Cluster ID : 3\n",
        "\n",
        "-"
      ],
      "metadata": {
        "id": "X8-Qz_xJsPQ3"
      }
    }
  ]
}